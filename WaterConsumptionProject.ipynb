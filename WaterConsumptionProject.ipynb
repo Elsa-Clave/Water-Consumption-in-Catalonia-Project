{
 "cells": [
  {
   "cell_type": "markdown",
   "metadata": {},
   "source": [
    "## 🌊Project III | APIs, Feature Engineering & Machine Learning (Linear Regression Modelling)🚱"
   ]
  },
  {
   "cell_type": "markdown",
   "metadata": {},
   "source": [
    "### Water consumption in Catalonia by region"
   ]
  },
  {
   "cell_type": "markdown",
   "metadata": {},
   "source": [
    "Public Data retrieved from the Spanish Government API about water consumption by region in Catalonia, distinguishing between domestic consumption and that from own sources and for economic activities. The data is compiled from the declarations to the Catalan Water Agency of the supplying entities, industrial users and other economic activities. The consumption is calculated based on the invoiced consumption of the water tariff, it does not include the minimum invoices of the tariff."
   ]
  },
  {
   "cell_type": "code",
   "execution_count": 703,
   "metadata": {},
   "outputs": [],
   "source": [
    "#Importing libraries\n",
    "import pandas as pd\n",
    "from pandas import json_normalize \n",
    "\n",
    "import requests \n",
    "import json\n",
    "import os\n",
    "from dotenv import load_dotenv #conda install -c conda-forge python-dotenv\n",
    "\n",
    "import time"
   ]
  },
  {
   "cell_type": "code",
   "execution_count": 704,
   "metadata": {},
   "outputs": [],
   "source": [
    "#Importing url from the API \"https://datos.gob.es/en/apidata\"\n",
    "url = \"https://analisi.transparenciacatalunya.cat/api/views/2gws-ubmt/rows.json?accessType=DOWNLOAD\"\n"
   ]
  },
  {
   "cell_type": "code",
   "execution_count": 705,
   "metadata": {},
   "outputs": [
    {
     "data": {
      "text/plain": [
       "200"
      ]
     },
     "execution_count": 705,
     "metadata": {},
     "output_type": "execute_result"
    }
   ],
   "source": [
    "#Checking the status\n",
    "response = requests.get(url)\n",
    "response.status_code"
   ]
  },
  {
   "cell_type": "code",
   "execution_count": 706,
   "metadata": {},
   "outputs": [],
   "source": [
    "#Saving the json data into a variable\n",
    "data = response.json()"
   ]
  },
  {
   "cell_type": "code",
   "execution_count": 707,
   "metadata": {},
   "outputs": [
    {
     "data": {
      "text/plain": [
       "{'id': '2gws-ubmt',\n",
       " 'name': 'Consum d’aigua a Catalunya per comarques',\n",
       " 'assetType': 'dataset',\n",
       " 'attribution': 'Agència Catalana de l’Aigua (ACA)',\n",
       " 'attributionLink': 'https://administraciodigital.gencat.cat/ca/dades/dades-obertes/informacio-practica/llicencies/',\n",
       " 'averageRating': 0,\n",
       " 'category': 'Medi Ambient',\n",
       " 'createdAt': 1601553060,\n",
       " 'description': 'El data set recull el consum d’aigua per comarques, distingint entre el consum domèstic i el de fonts pròpies i per activitats econòmiques. Les dades són elaborades a partir de les declaracions a l’Agència Catalana de l’Aigua de les entitats subministradores, dels usuaris industrials i d’altres activitats econòmiques.  El consum es calcula a partir del consum facturat del cànon de l’aigua, no inclou els mínims de facturació del cànon.',\n",
       " 'displayType': 'table',\n",
       " 'downloadCount': 2359,\n",
       " 'hideFromCatalog': False,\n",
       " 'hideFromDataJson': False,\n",
       " 'licenseId': 'SEE_TERMS_OF_USE',\n",
       " 'locked': False,\n",
       " 'newBackend': True,\n",
       " 'numberOfComments': 0,\n",
       " 'oid': 1865847,\n",
       " 'provenance': 'official',\n",
       " 'publicationAppendEnabled': False,\n",
       " 'publicationDate': 1602062309,\n",
       " 'publicationGroup': 1255032,\n",
       " 'publicationStage': 'published',\n",
       " 'rowsUpdatedAt': 1686892360,\n",
       " 'rowsUpdatedBy': '7yiu-nmxh',\n",
       " 'tableId': 1259443,\n",
       " 'totalTimesRated': 0,\n",
       " 'viewCount': 11248,\n",
       " 'viewLastModified': 1705388838,\n",
       " 'viewType': 'tabular',\n",
       " 'approvals': [{'reviewedAt': 1602070726,\n",
       "   'reviewedAutomatically': True,\n",
       "   'state': 'approved',\n",
       "   'submissionId': 741167,\n",
       "   'submissionObject': 'public_audience_request',\n",
       "   'submissionOutcome': 'change_audience',\n",
       "   'submittedAt': 1602070726,\n",
       "   'targetAudience': 'public',\n",
       "   'workflowId': 182,\n",
       "   'submissionDetails': {'permissionType': 'READ'},\n",
       "   'submissionOutcomeApplication': {'endedAt': 1602070726,\n",
       "    'failureCount': 0,\n",
       "    'startedAt': 1602070726,\n",
       "    'status': 'success'},\n",
       "   'submitter': {'id': 'a4b5-gx6v',\n",
       "    'displayName': 'Dades Obertes Catalunya'}}],\n",
       " 'clientContext': {'clientContextVariables': [], 'inheritedVariables': {}},\n",
       " 'columns': [{'id': -1,\n",
       "   'name': 'sid',\n",
       "   'dataTypeName': 'meta_data',\n",
       "   'fieldName': ':sid',\n",
       "   'position': 0,\n",
       "   'renderTypeName': 'meta_data',\n",
       "   'format': {},\n",
       "   'flags': ['hidden']},\n",
       "  {'id': -1,\n",
       "   'name': 'id',\n",
       "   'dataTypeName': 'meta_data',\n",
       "   'fieldName': ':id',\n",
       "   'position': 0,\n",
       "   'renderTypeName': 'meta_data',\n",
       "   'format': {},\n",
       "   'flags': ['hidden']},\n",
       "  {'id': -1,\n",
       "   'name': 'position',\n",
       "   'dataTypeName': 'meta_data',\n",
       "   'fieldName': ':position',\n",
       "   'position': 0,\n",
       "   'renderTypeName': 'meta_data',\n",
       "   'format': {},\n",
       "   'flags': ['hidden']},\n",
       "  {'id': -1,\n",
       "   'name': 'created_at',\n",
       "   'dataTypeName': 'meta_data',\n",
       "   'fieldName': ':created_at',\n",
       "   'position': 0,\n",
       "   'renderTypeName': 'meta_data',\n",
       "   'format': {},\n",
       "   'flags': ['hidden']},\n",
       "  {'id': -1,\n",
       "   'name': 'created_meta',\n",
       "   'dataTypeName': 'meta_data',\n",
       "   'fieldName': ':created_meta',\n",
       "   'position': 0,\n",
       "   'renderTypeName': 'meta_data',\n",
       "   'format': {},\n",
       "   'flags': ['hidden']},\n",
       "  {'id': -1,\n",
       "   'name': 'updated_at',\n",
       "   'dataTypeName': 'meta_data',\n",
       "   'fieldName': ':updated_at',\n",
       "   'position': 0,\n",
       "   'renderTypeName': 'meta_data',\n",
       "   'format': {},\n",
       "   'flags': ['hidden']},\n",
       "  {'id': -1,\n",
       "   'name': 'updated_meta',\n",
       "   'dataTypeName': 'meta_data',\n",
       "   'fieldName': ':updated_meta',\n",
       "   'position': 0,\n",
       "   'renderTypeName': 'meta_data',\n",
       "   'format': {},\n",
       "   'flags': ['hidden']},\n",
       "  {'id': -1,\n",
       "   'name': 'meta',\n",
       "   'dataTypeName': 'meta_data',\n",
       "   'fieldName': ':meta',\n",
       "   'position': 0,\n",
       "   'renderTypeName': 'meta_data',\n",
       "   'format': {},\n",
       "   'flags': ['hidden']},\n",
       "  {'id': 16851809,\n",
       "   'name': 'Any',\n",
       "   'dataTypeName': 'number',\n",
       "   'description': 'Any de facturació dels consums al qual fan referència les dades',\n",
       "   'fieldName': 'any',\n",
       "   'position': 1,\n",
       "   'renderTypeName': 'number',\n",
       "   'tableColumnId': 10869290,\n",
       "   'cachedContents': {'non_null': '459',\n",
       "    'largest': '2022',\n",
       "    'null': '0',\n",
       "    'top': [{'item': '2020', 'count': '42'},\n",
       "     {'item': '2019', 'count': '42'},\n",
       "     {'item': '2022', 'count': '42'},\n",
       "     {'item': '2018', 'count': '42'},\n",
       "     {'item': '2015', 'count': '42'},\n",
       "     {'item': '2017', 'count': '42'},\n",
       "     {'item': '2021', 'count': '42'},\n",
       "     {'item': '2016', 'count': '42'},\n",
       "     {'item': '2012', 'count': '41'},\n",
       "     {'item': '2013', 'count': '41'},\n",
       "     {'item': '2014', 'count': '41'}],\n",
       "    'smallest': '2012',\n",
       "    'count': '459',\n",
       "    'cardinality': '11'},\n",
       "   'format': {'noCommas': 'true'}},\n",
       "  {'id': 16851816,\n",
       "   'name': 'Codi comarca',\n",
       "   'dataTypeName': 'text',\n",
       "   'description': 'Codi de la comarca',\n",
       "   'fieldName': 'codi_comarca',\n",
       "   'position': 2,\n",
       "   'renderTypeName': 'text',\n",
       "   'tableColumnId': 10933947,\n",
       "   'cachedContents': {'non_null': '459',\n",
       "    'largest': '9',\n",
       "    'null': '0',\n",
       "    'top': [{'item': '8', 'count': '11'},\n",
       "     {'item': '12', 'count': '11'},\n",
       "     {'item': '10', 'count': '11'},\n",
       "     {'item': '7', 'count': '11'},\n",
       "     {'item': '13', 'count': '11'},\n",
       "     {'item': '28', 'count': '11'},\n",
       "     {'item': '15', 'count': '11'},\n",
       "     {'item': '5', 'count': '11'},\n",
       "     {'item': '40', 'count': '11'},\n",
       "     {'item': '39', 'count': '11'},\n",
       "     {'item': '19', 'count': '11'},\n",
       "     {'item': '23', 'count': '11'},\n",
       "     {'item': '20', 'count': '11'},\n",
       "     {'item': '25', 'count': '11'},\n",
       "     {'item': '14', 'count': '11'},\n",
       "     {'item': '34', 'count': '11'},\n",
       "     {'item': '6', 'count': '11'},\n",
       "     {'item': '18', 'count': '11'},\n",
       "     {'item': '38', 'count': '11'},\n",
       "     {'item': '32', 'count': '11'}],\n",
       "    'smallest': '1',\n",
       "    'count': '459',\n",
       "    'cardinality': '42'},\n",
       "   'format': {}},\n",
       "  {'id': 16851810,\n",
       "   'name': 'Comarca',\n",
       "   'dataTypeName': 'text',\n",
       "   'description': 'Comarca a la qual fan referència les dades',\n",
       "   'fieldName': 'comarca',\n",
       "   'position': 3,\n",
       "   'renderTypeName': 'text',\n",
       "   'tableColumnId': 10869291,\n",
       "   'cachedContents': {'non_null': '459',\n",
       "    'largest': 'VALLÈS ORIENTAL, EL',\n",
       "    'null': '0',\n",
       "    'top': [{'item': 'VALLÈS ORIENTAL, EL', 'count': '11'},\n",
       "     {'item': \"URGELL, L'\", 'count': '11'},\n",
       "     {'item': 'BAIX CAMP, EL', 'count': '11'},\n",
       "     {'item': \"ALT URGELL, L'\", 'count': '11'},\n",
       "     {'item': \"PLA DE L'ESTANY, EL\", 'count': '11'},\n",
       "     {'item': 'OSONA', 'count': '11'},\n",
       "     {'item': \"VAL D'ARAN, LA\", 'count': '11'},\n",
       "     {'item': 'MONTSIÀ, EL', 'count': '11'},\n",
       "     {'item': 'RIPOLLÈS, EL', 'count': '11'},\n",
       "     {'item': 'MARESME, EL', 'count': '11'},\n",
       "     {'item': 'BAIX PENEDÈS, EL', 'count': '11'},\n",
       "     {'item': 'BAIX EBRE, EL', 'count': '11'},\n",
       "     {'item': \"PLA D'URGELL, EL\", 'count': '11'},\n",
       "     {'item': 'GARRIGUES, LES', 'count': '11'},\n",
       "     {'item': 'PALLARS SOBIRÀ, EL', 'count': '11'},\n",
       "     {'item': \"ALT PENEDÈS, L'\", 'count': '11'},\n",
       "     {'item': 'PRIORAT, EL', 'count': '11'},\n",
       "     {'item': \"ANOIA, L'\", 'count': '11'},\n",
       "     {'item': 'CONCA DE BARBERÀ, LA', 'count': '11'},\n",
       "     {'item': 'BAIX EMPORDÀ, EL', 'count': '11'}],\n",
       "    'smallest': \"ALTA RIBAGORÇA, L'\",\n",
       "    'count': '459',\n",
       "    'cardinality': '42'},\n",
       "   'format': {}},\n",
       "  {'id': 16851811,\n",
       "   'name': 'Població',\n",
       "   'dataTypeName': 'number',\n",
       "   'description': 'Nombre d’habitants de la comarca a partir de dades del Padró municipal d’habitants a 1 de gener ',\n",
       "   'fieldName': 'poblaci',\n",
       "   'position': 4,\n",
       "   'renderTypeName': 'number',\n",
       "   'tableColumnId': 10869289,\n",
       "   'cachedContents': {'non_null': '459',\n",
       "    'largest': '2314620',\n",
       "    'null': '0',\n",
       "    'top': [{'item': '20482', 'count': '2'},\n",
       "     {'item': '36693', 'count': '2'},\n",
       "     {'item': '185085', 'count': '2'},\n",
       "     {'item': '78721', 'count': '1'},\n",
       "     {'item': '898921', 'count': '1'},\n",
       "     {'item': '20453', 'count': '1'},\n",
       "     {'item': '20058', 'count': '1'},\n",
       "     {'item': '142624', 'count': '1'},\n",
       "     {'item': '18771', 'count': '1'},\n",
       "     {'item': '441505', 'count': '1'},\n",
       "     {'item': '187235', 'count': '1'},\n",
       "     {'item': '4235', 'count': '1'},\n",
       "     {'item': '20212', 'count': '1'},\n",
       "     {'item': '208881', 'count': '1'},\n",
       "     {'item': '2254052', 'count': '1'},\n",
       "     {'item': '13280', 'count': '1'},\n",
       "     {'item': '171617', 'count': '1'},\n",
       "     {'item': '44578', 'count': '1'},\n",
       "     {'item': '11483', 'count': '1'},\n",
       "     {'item': '17882', 'count': '1'}],\n",
       "    'smallest': '3774',\n",
       "    'count': '459',\n",
       "    'cardinality': '456'},\n",
       "   'format': {'decimalSeparator': ',', 'groupSeparator': '.'}},\n",
       "  {'id': 16851812,\n",
       "   'name': 'Domèstic xarxa',\n",
       "   'dataTypeName': 'number',\n",
       "   'description': 'Volum consumit  facturat a  les llars connectades a la xarxa de subministrament d’aigua. Mesurat en metres cúbics ',\n",
       "   'fieldName': 'dom_stic_xarxa',\n",
       "   'position': 5,\n",
       "   'renderTypeName': 'number',\n",
       "   'tableColumnId': 10869288,\n",
       "   'cachedContents': {'non_null': '459',\n",
       "    'largest': '93135769',\n",
       "    'null': '0',\n",
       "    'top': [{'item': '9425056', 'count': '1'},\n",
       "     {'item': '6804378', 'count': '1'},\n",
       "     {'item': '8931510', 'count': '1'},\n",
       "     {'item': '665180', 'count': '1'},\n",
       "     {'item': '8179176', 'count': '1'},\n",
       "     {'item': '1661185', 'count': '1'},\n",
       "     {'item': '380638', 'count': '1'},\n",
       "     {'item': '807845', 'count': '1'},\n",
       "     {'item': '2491915', 'count': '1'},\n",
       "     {'item': '794102', 'count': '1'},\n",
       "     {'item': '7353811', 'count': '1'},\n",
       "     {'item': '1449132', 'count': '1'},\n",
       "     {'item': '10304393', 'count': '1'},\n",
       "     {'item': '762027', 'count': '1'},\n",
       "     {'item': '998866', 'count': '1'},\n",
       "     {'item': '9163292', 'count': '1'},\n",
       "     {'item': '31921843', 'count': '1'},\n",
       "     {'item': '408164', 'count': '1'},\n",
       "     {'item': '997496', 'count': '1'},\n",
       "     {'item': '2316986', 'count': '1'}],\n",
       "    'smallest': '330192',\n",
       "    'count': '459',\n",
       "    'cardinality': '459'},\n",
       "   'format': {'decimalSeparator': ',', 'groupSeparator': '.'}},\n",
       "  {'id': 16851813,\n",
       "   'name': 'Activitats econòmiques i fonts pròpies',\n",
       "   'dataTypeName': 'number',\n",
       "   'description': 'Volum consumit i facturat als usos industrials i de serveis connectats a la xarxa de subministrament d’aigua  i a tots els usuaris de fonts pròpies . Mesurat en metres cúbics.',\n",
       "   'fieldName': 'activitats_econ_miques_i',\n",
       "   'position': 6,\n",
       "   'renderTypeName': 'number',\n",
       "   'tableColumnId': 10869287,\n",
       "   'cachedContents': {'non_null': '459',\n",
       "    'largest': '44488069',\n",
       "    'null': '0',\n",
       "    'top': [{'item': '6365183', 'count': '1'},\n",
       "     {'item': '7303052', 'count': '1'},\n",
       "     {'item': '2053735', 'count': '1'},\n",
       "     {'item': '4306446', 'count': '1'},\n",
       "     {'item': '2674706', 'count': '1'},\n",
       "     {'item': '2234536', 'count': '1'},\n",
       "     {'item': '1953754', 'count': '1'},\n",
       "     {'item': '4169719', 'count': '1'},\n",
       "     {'item': '2678326', 'count': '1'},\n",
       "     {'item': '42937375', 'count': '1'},\n",
       "     {'item': '13212124', 'count': '1'},\n",
       "     {'item': '1110032', 'count': '1'},\n",
       "     {'item': '669991', 'count': '1'},\n",
       "     {'item': '41807472', 'count': '1'},\n",
       "     {'item': '42763730', 'count': '1'},\n",
       "     {'item': '22181562', 'count': '1'},\n",
       "     {'item': '796002', 'count': '1'},\n",
       "     {'item': '38524616', 'count': '1'},\n",
       "     {'item': '4663173', 'count': '1'},\n",
       "     {'item': '1169112', 'count': '1'}],\n",
       "    'smallest': '111138',\n",
       "    'count': '459',\n",
       "    'cardinality': '459'},\n",
       "   'format': {'decimalSeparator': ',', 'groupSeparator': '.'}},\n",
       "  {'id': 16851814,\n",
       "   'name': 'Total',\n",
       "   'dataTypeName': 'number',\n",
       "   'description': 'Suma del volum de Domèstic xarxa i Activitats econòmiques i fonts pròpies. Mesurat en metres cúbics',\n",
       "   'fieldName': 'total',\n",
       "   'position': 7,\n",
       "   'renderTypeName': 'number',\n",
       "   'tableColumnId': 10869286,\n",
       "   'cachedContents': {'non_null': '459',\n",
       "    'largest': '129894446',\n",
       "    'null': '0',\n",
       "    'top': [{'item': '1389689', 'count': '1'},\n",
       "     {'item': '2174121', 'count': '1'},\n",
       "     {'item': '10676842', 'count': '1'},\n",
       "     {'item': '572089', 'count': '1'},\n",
       "     {'item': '3415767', 'count': '1'},\n",
       "     {'item': '2392120', 'count': '1'},\n",
       "     {'item': '1075485', 'count': '1'},\n",
       "     {'item': '1143777', 'count': '1'},\n",
       "     {'item': '57001547', 'count': '1'},\n",
       "     {'item': '10212398', 'count': '1'},\n",
       "     {'item': '15139632', 'count': '1'},\n",
       "     {'item': '1492203', 'count': '1'},\n",
       "     {'item': '1516809', 'count': '1'},\n",
       "     {'item': '8613289', 'count': '1'},\n",
       "     {'item': '8491490', 'count': '1'},\n",
       "     {'item': '16013147', 'count': '1'},\n",
       "     {'item': '3415303', 'count': '1'},\n",
       "     {'item': '1569183', 'count': '1'},\n",
       "     {'item': '13624709', 'count': '1'},\n",
       "     {'item': '10431084', 'count': '1'}],\n",
       "    'smallest': '463454',\n",
       "    'count': '459',\n",
       "    'cardinality': '459'},\n",
       "   'format': {'decimalSeparator': ',', 'groupSeparator': '.'}},\n",
       "  {'id': 16851815,\n",
       "   'name': 'Consum domèstic per càpita',\n",
       "   'dataTypeName': 'number',\n",
       "   'description': 'Consum domèstic de la xarxa per persona i dia. Es calcula de la següent forma: (Domèstic xarxa*1000)/(Població*365). Mesurat en litres/persona/dia',\n",
       "   'fieldName': 'consum_dom_stic_per_c_pita',\n",
       "   'position': 8,\n",
       "   'renderTypeName': 'number',\n",
       "   'tableColumnId': 10869285,\n",
       "   'cachedContents': {'non_null': '459',\n",
       "    'largest': '378.16',\n",
       "    'null': '0',\n",
       "    'top': [{'item': '106.64', 'count': '2'},\n",
       "     {'item': '115.81', 'count': '2'},\n",
       "     {'item': '111.17', 'count': '2'},\n",
       "     {'item': '118.03', 'count': '2'},\n",
       "     {'item': '109.41', 'count': '2'},\n",
       "     {'item': '125.47', 'count': '2'},\n",
       "     {'item': '110.24', 'count': '2'},\n",
       "     {'item': '109.88', 'count': '2'},\n",
       "     {'item': '116.00', 'count': '2'},\n",
       "     {'item': '107.08', 'count': '2'},\n",
       "     {'item': '105.86', 'count': '2'},\n",
       "     {'item': '161.15', 'count': '1'},\n",
       "     {'item': '110.25', 'count': '1'},\n",
       "     {'item': '104.59', 'count': '1'},\n",
       "     {'item': '100.85', 'count': '1'},\n",
       "     {'item': '169.00', 'count': '1'},\n",
       "     {'item': '208.22', 'count': '1'},\n",
       "     {'item': '112.98', 'count': '1'},\n",
       "     {'item': '113.30', 'count': '1'},\n",
       "     {'item': '93.44', 'count': '1'}],\n",
       "    'smallest': '89.12',\n",
       "    'count': '459',\n",
       "    'cardinality': '448'},\n",
       "   'format': {'decimalSeparator': ',', 'groupSeparator': '.'}}],\n",
       " 'grants': [{'inherited': False, 'type': 'viewer', 'flags': ['public']}],\n",
       " 'license': {'name': 'See Terms of Use'},\n",
       " 'metadata': {'custom_fields': {\"Freqüència d'actualització\": {\"Freqüència d'actualització\": 'Anual'},\n",
       "   'Idioma': {'Idioma': 'Català',\n",
       "    'Dataset name (EN)': 'Water consumption in Catalonia by region',\n",
       "    'Nombre del conjunto de datos (ES)': 'Consumo de agua en Cataluña por comarcas'},\n",
       "   'Informació de gènere o sexe': {'Informació de gènere o sexe': 'No aplica'},\n",
       "   'Actors': {'Departament': 'Acció Climàtica, Alimentació i Agenda Rural',\n",
       "    'Tipus actor': 'Generalitat de Catalunya'},\n",
       "   'Àmbit geogràfic': {'Informació geogràfica': \"Codi d'element\",\n",
       "    'Àmbit geogràfic': 'Catalunya'}},\n",
       "  'availableDisplayTypes': ['table', 'fatrow', 'page']},\n",
       " 'owner': {'id': 'a4b5-gx6v',\n",
       "  'displayName': 'Dades Obertes Catalunya',\n",
       "  'profileImageUrlLarge': '/api/users/a4b5-gx6v/profile_images/LARGE',\n",
       "  'profileImageUrlMedium': '/api/users/a4b5-gx6v/profile_images/THUMB',\n",
       "  'profileImageUrlSmall': '/api/users/a4b5-gx6v/profile_images/TINY',\n",
       "  'screenName': 'Dades Obertes Catalunya',\n",
       "  'type': 'interactive',\n",
       "  'flags': ['acceptedEula']},\n",
       " 'query': {},\n",
       " 'rights': ['read'],\n",
       " 'tableAuthor': {'id': 'a4b5-gx6v',\n",
       "  'displayName': 'Dades Obertes Catalunya',\n",
       "  'profileImageUrlLarge': '/api/users/a4b5-gx6v/profile_images/LARGE',\n",
       "  'profileImageUrlMedium': '/api/users/a4b5-gx6v/profile_images/THUMB',\n",
       "  'profileImageUrlSmall': '/api/users/a4b5-gx6v/profile_images/TINY',\n",
       "  'screenName': 'Dades Obertes Catalunya',\n",
       "  'type': 'interactive',\n",
       "  'flags': ['acceptedEula']},\n",
       " 'tags': ['sequera',\n",
       "  'sostenibilitat',\n",
       "  'litres',\n",
       "  'emergència climàtica',\n",
       "  'aigües',\n",
       "  'aca',\n",
       "  'consum',\n",
       "  'consum d’aigua',\n",
       "  'volum',\n",
       "  'smartcatalonia',\n",
       "  'ods6_aigua neta i sanejament',\n",
       "  'ods13_acció pel clima',\n",
       "  'ods12_producció i consum responsable',\n",
       "  'ods'],\n",
       " 'flags': ['default',\n",
       "  'ownerMayBeContacted',\n",
       "  'restorable',\n",
       "  'restorePossibleForType']}"
      ]
     },
     "execution_count": 707,
     "metadata": {},
     "output_type": "execute_result"
    }
   ],
   "source": [
    "#Checking for metadata \n",
    "response.json()['meta']['view']"
   ]
  },
  {
   "cell_type": "markdown",
   "metadata": {},
   "source": [
    "Metadata water consumption dataframe:\n",
    "\n",
    "- Any: Invoicing year of consumption to which the data refers\n",
    "\n",
    "- Codi comarca: Code of the region\n",
    "\n",
    "- Comarca: Region to which the data refer\n",
    "\n",
    "- Població: Number of inhabitants of the county based on data from the Municipal Register of Inhabitants as of January 1\n",
    "\n",
    "- Domestic xarxa: Volume consumed billed to households connected to the water supply network. Measured in cubic meters\n",
    "\n",
    "- Activitats econòmiques i fonts pròpies: Volume consumed and invoiced to industrial and service uses connected to the water supply network and to all users of own sources. Measured in cubic meters\n",
    "\n",
    "- Total: Sum of the volume of Domestic network and Economic activities and own sources. Measured in cubic meters\n",
    "\n",
    "- Consum domèstic per càpita: Domestic consumption of the network per person per day. It is calculated as follows: (Domestic network*1000)/(Population*365). Measured in liters/person/day'"
   ]
  },
  {
   "cell_type": "code",
   "execution_count": 708,
   "metadata": {},
   "outputs": [],
   "source": [
    "#The data is organized into an array of arrays, where each inner array represents a row of data.\n",
    "#I will retrieve the column headers. Each object in the columns array has information about a column (name, data type, and description)\n",
    "columnas = [column['name'] for column in data['meta']['view']['columns']]"
   ]
  },
  {
   "cell_type": "code",
   "execution_count": 709,
   "metadata": {},
   "outputs": [],
   "source": [
    "#Same goes for the rows, the inner arrays corresponsd to the data values for the columns retrieved above:\n",
    "filas = data['data']"
   ]
  },
  {
   "cell_type": "code",
   "execution_count": 710,
   "metadata": {},
   "outputs": [],
   "source": [
    "#Setting the raw dataframe:\n",
    "df = pd.DataFrame(filas, columns=columnas)"
   ]
  },
  {
   "cell_type": "code",
   "execution_count": 711,
   "metadata": {},
   "outputs": [
    {
     "data": {
      "text/html": [
       "<div>\n",
       "<style scoped>\n",
       "    .dataframe tbody tr th:only-of-type {\n",
       "        vertical-align: middle;\n",
       "    }\n",
       "\n",
       "    .dataframe tbody tr th {\n",
       "        vertical-align: top;\n",
       "    }\n",
       "\n",
       "    .dataframe thead th {\n",
       "        text-align: right;\n",
       "    }\n",
       "</style>\n",
       "<table border=\"1\" class=\"dataframe\">\n",
       "  <thead>\n",
       "    <tr style=\"text-align: right;\">\n",
       "      <th></th>\n",
       "      <th>sid</th>\n",
       "      <th>id</th>\n",
       "      <th>position</th>\n",
       "      <th>created_at</th>\n",
       "      <th>created_meta</th>\n",
       "      <th>updated_at</th>\n",
       "      <th>updated_meta</th>\n",
       "      <th>meta</th>\n",
       "      <th>Any</th>\n",
       "      <th>Codi comarca</th>\n",
       "      <th>Comarca</th>\n",
       "      <th>Població</th>\n",
       "      <th>Domèstic xarxa</th>\n",
       "      <th>Activitats econòmiques i fonts pròpies</th>\n",
       "      <th>Total</th>\n",
       "      <th>Consum domèstic per càpita</th>\n",
       "    </tr>\n",
       "  </thead>\n",
       "  <tbody>\n",
       "    <tr>\n",
       "      <th>0</th>\n",
       "      <td>row-ytd2.j8w4-s458</td>\n",
       "      <td>00000000-0000-0000-2389-41C805B9EAAD</td>\n",
       "      <td>0</td>\n",
       "      <td>1686892360</td>\n",
       "      <td>None</td>\n",
       "      <td>1686892360</td>\n",
       "      <td>None</td>\n",
       "      <td>{ }</td>\n",
       "      <td>2022</td>\n",
       "      <td>1</td>\n",
       "      <td>ALT CAMP, L'</td>\n",
       "      <td>45540</td>\n",
       "      <td>1685688</td>\n",
       "      <td>3040038</td>\n",
       "      <td>4725726</td>\n",
       "      <td>101.41</td>\n",
       "    </tr>\n",
       "    <tr>\n",
       "      <th>1</th>\n",
       "      <td>row-wyqk-qpxk_jczr</td>\n",
       "      <td>00000000-0000-0000-CB5E-8C3E104A7F58</td>\n",
       "      <td>0</td>\n",
       "      <td>1686892360</td>\n",
       "      <td>None</td>\n",
       "      <td>1686892360</td>\n",
       "      <td>None</td>\n",
       "      <td>{ }</td>\n",
       "      <td>2022</td>\n",
       "      <td>2</td>\n",
       "      <td>ALT EMPORDÀ, L'</td>\n",
       "      <td>144926</td>\n",
       "      <td>8593650</td>\n",
       "      <td>4831755</td>\n",
       "      <td>13425405</td>\n",
       "      <td>162.46</td>\n",
       "    </tr>\n",
       "    <tr>\n",
       "      <th>2</th>\n",
       "      <td>row-wnzu.wt7j-f5eh</td>\n",
       "      <td>00000000-0000-0000-AE2F-59C0592C2198</td>\n",
       "      <td>0</td>\n",
       "      <td>1686892360</td>\n",
       "      <td>None</td>\n",
       "      <td>1686892360</td>\n",
       "      <td>None</td>\n",
       "      <td>{ }</td>\n",
       "      <td>2022</td>\n",
       "      <td>3</td>\n",
       "      <td>ALT PENEDÈS, L'</td>\n",
       "      <td>110929</td>\n",
       "      <td>4533398</td>\n",
       "      <td>3262053</td>\n",
       "      <td>7795451</td>\n",
       "      <td>111.97</td>\n",
       "    </tr>\n",
       "    <tr>\n",
       "      <th>3</th>\n",
       "      <td>row-7rzc-wh8v_5nmg</td>\n",
       "      <td>00000000-0000-0000-6FD3-34E95785096B</td>\n",
       "      <td>0</td>\n",
       "      <td>1686892360</td>\n",
       "      <td>None</td>\n",
       "      <td>1686892360</td>\n",
       "      <td>None</td>\n",
       "      <td>{ }</td>\n",
       "      <td>2022</td>\n",
       "      <td>4</td>\n",
       "      <td>ALT URGELL, L'</td>\n",
       "      <td>20482</td>\n",
       "      <td>1016456</td>\n",
       "      <td>1467236</td>\n",
       "      <td>2483692</td>\n",
       "      <td>135.96</td>\n",
       "    </tr>\n",
       "    <tr>\n",
       "      <th>4</th>\n",
       "      <td>row-95mh.ncbn~q3s8</td>\n",
       "      <td>00000000-0000-0000-C336-DCAADB48F18D</td>\n",
       "      <td>0</td>\n",
       "      <td>1686892360</td>\n",
       "      <td>None</td>\n",
       "      <td>1686892360</td>\n",
       "      <td>None</td>\n",
       "      <td>{ }</td>\n",
       "      <td>2022</td>\n",
       "      <td>5</td>\n",
       "      <td>ALTA RIBAGORÇA, L'</td>\n",
       "      <td>3958</td>\n",
       "      <td>469071</td>\n",
       "      <td>271619</td>\n",
       "      <td>740690</td>\n",
       "      <td>324.69</td>\n",
       "    </tr>\n",
       "    <tr>\n",
       "      <th>...</th>\n",
       "      <td>...</td>\n",
       "      <td>...</td>\n",
       "      <td>...</td>\n",
       "      <td>...</td>\n",
       "      <td>...</td>\n",
       "      <td>...</td>\n",
       "      <td>...</td>\n",
       "      <td>...</td>\n",
       "      <td>...</td>\n",
       "      <td>...</td>\n",
       "      <td>...</td>\n",
       "      <td>...</td>\n",
       "      <td>...</td>\n",
       "      <td>...</td>\n",
       "      <td>...</td>\n",
       "      <td>...</td>\n",
       "    </tr>\n",
       "    <tr>\n",
       "      <th>454</th>\n",
       "      <td>row-8pka_bhn8-7ugn</td>\n",
       "      <td>00000000-0000-0000-DE02-C0734FF0E169</td>\n",
       "      <td>0</td>\n",
       "      <td>1686892360</td>\n",
       "      <td>None</td>\n",
       "      <td>1686892360</td>\n",
       "      <td>None</td>\n",
       "      <td>{ }</td>\n",
       "      <td>2012</td>\n",
       "      <td>37</td>\n",
       "      <td>TERRA ALTA</td>\n",
       "      <td>12713</td>\n",
       "      <td>441824</td>\n",
       "      <td>225143</td>\n",
       "      <td>666967</td>\n",
       "      <td>95.22</td>\n",
       "    </tr>\n",
       "    <tr>\n",
       "      <th>455</th>\n",
       "      <td>row-dtxw_yw9e_m4q8</td>\n",
       "      <td>00000000-0000-0000-DAD1-A72D6BDFD7BB</td>\n",
       "      <td>0</td>\n",
       "      <td>1686892360</td>\n",
       "      <td>None</td>\n",
       "      <td>1686892360</td>\n",
       "      <td>None</td>\n",
       "      <td>{ }</td>\n",
       "      <td>2012</td>\n",
       "      <td>38</td>\n",
       "      <td>URGELL, L'</td>\n",
       "      <td>36975</td>\n",
       "      <td>1543234</td>\n",
       "      <td>1422857</td>\n",
       "      <td>2966091</td>\n",
       "      <td>114.35</td>\n",
       "    </tr>\n",
       "    <tr>\n",
       "      <th>456</th>\n",
       "      <td>row-pmxt_9cxw.u9a4</td>\n",
       "      <td>00000000-0000-0000-44F6-0F0A1C15CDB4</td>\n",
       "      <td>0</td>\n",
       "      <td>1686892360</td>\n",
       "      <td>None</td>\n",
       "      <td>1686892360</td>\n",
       "      <td>None</td>\n",
       "      <td>{ }</td>\n",
       "      <td>2012</td>\n",
       "      <td>39</td>\n",
       "      <td>VAL D'ARAN, LA</td>\n",
       "      <td>10056</td>\n",
       "      <td>1112630</td>\n",
       "      <td>731409</td>\n",
       "      <td>1844038</td>\n",
       "      <td>303.13</td>\n",
       "    </tr>\n",
       "    <tr>\n",
       "      <th>457</th>\n",
       "      <td>row-t2rv_66rm~idxr</td>\n",
       "      <td>00000000-0000-0000-BF93-E1628AD3BED7</td>\n",
       "      <td>0</td>\n",
       "      <td>1686892360</td>\n",
       "      <td>None</td>\n",
       "      <td>1686892360</td>\n",
       "      <td>None</td>\n",
       "      <td>{ }</td>\n",
       "      <td>2012</td>\n",
       "      <td>40</td>\n",
       "      <td>VALLÈS OCCIDENTAL, EL</td>\n",
       "      <td>898173</td>\n",
       "      <td>36611134</td>\n",
       "      <td>25651000</td>\n",
       "      <td>62262134</td>\n",
       "      <td>111.68</td>\n",
       "    </tr>\n",
       "    <tr>\n",
       "      <th>458</th>\n",
       "      <td>row-yn3c_jf8n.3aca</td>\n",
       "      <td>00000000-0000-0000-F3F1-8B92831CB629</td>\n",
       "      <td>0</td>\n",
       "      <td>1686892360</td>\n",
       "      <td>None</td>\n",
       "      <td>1686892360</td>\n",
       "      <td>None</td>\n",
       "      <td>{ }</td>\n",
       "      <td>2012</td>\n",
       "      <td>41</td>\n",
       "      <td>VALLÈS ORIENTAL, EL</td>\n",
       "      <td>402632</td>\n",
       "      <td>17020094</td>\n",
       "      <td>14216816</td>\n",
       "      <td>31236910</td>\n",
       "      <td>115.81</td>\n",
       "    </tr>\n",
       "  </tbody>\n",
       "</table>\n",
       "<p>459 rows × 16 columns</p>\n",
       "</div>"
      ],
      "text/plain": [
       "                    sid                                    id  position  \\\n",
       "0    row-ytd2.j8w4-s458  00000000-0000-0000-2389-41C805B9EAAD         0   \n",
       "1    row-wyqk-qpxk_jczr  00000000-0000-0000-CB5E-8C3E104A7F58         0   \n",
       "2    row-wnzu.wt7j-f5eh  00000000-0000-0000-AE2F-59C0592C2198         0   \n",
       "3    row-7rzc-wh8v_5nmg  00000000-0000-0000-6FD3-34E95785096B         0   \n",
       "4    row-95mh.ncbn~q3s8  00000000-0000-0000-C336-DCAADB48F18D         0   \n",
       "..                  ...                                   ...       ...   \n",
       "454  row-8pka_bhn8-7ugn  00000000-0000-0000-DE02-C0734FF0E169         0   \n",
       "455  row-dtxw_yw9e_m4q8  00000000-0000-0000-DAD1-A72D6BDFD7BB         0   \n",
       "456  row-pmxt_9cxw.u9a4  00000000-0000-0000-44F6-0F0A1C15CDB4         0   \n",
       "457  row-t2rv_66rm~idxr  00000000-0000-0000-BF93-E1628AD3BED7         0   \n",
       "458  row-yn3c_jf8n.3aca  00000000-0000-0000-F3F1-8B92831CB629         0   \n",
       "\n",
       "     created_at created_meta  updated_at updated_meta meta   Any Codi comarca  \\\n",
       "0    1686892360         None  1686892360         None  { }  2022            1   \n",
       "1    1686892360         None  1686892360         None  { }  2022            2   \n",
       "2    1686892360         None  1686892360         None  { }  2022            3   \n",
       "3    1686892360         None  1686892360         None  { }  2022            4   \n",
       "4    1686892360         None  1686892360         None  { }  2022            5   \n",
       "..          ...          ...         ...          ...  ...   ...          ...   \n",
       "454  1686892360         None  1686892360         None  { }  2012           37   \n",
       "455  1686892360         None  1686892360         None  { }  2012           38   \n",
       "456  1686892360         None  1686892360         None  { }  2012           39   \n",
       "457  1686892360         None  1686892360         None  { }  2012           40   \n",
       "458  1686892360         None  1686892360         None  { }  2012           41   \n",
       "\n",
       "                   Comarca Població Domèstic xarxa  \\\n",
       "0             ALT CAMP, L'    45540        1685688   \n",
       "1          ALT EMPORDÀ, L'   144926        8593650   \n",
       "2          ALT PENEDÈS, L'   110929        4533398   \n",
       "3           ALT URGELL, L'    20482        1016456   \n",
       "4       ALTA RIBAGORÇA, L'     3958         469071   \n",
       "..                     ...      ...            ...   \n",
       "454             TERRA ALTA    12713         441824   \n",
       "455             URGELL, L'    36975        1543234   \n",
       "456         VAL D'ARAN, LA    10056        1112630   \n",
       "457  VALLÈS OCCIDENTAL, EL   898173       36611134   \n",
       "458    VALLÈS ORIENTAL, EL   402632       17020094   \n",
       "\n",
       "    Activitats econòmiques i fonts pròpies     Total  \\\n",
       "0                                  3040038   4725726   \n",
       "1                                  4831755  13425405   \n",
       "2                                  3262053   7795451   \n",
       "3                                  1467236   2483692   \n",
       "4                                   271619    740690   \n",
       "..                                     ...       ...   \n",
       "454                                 225143    666967   \n",
       "455                                1422857   2966091   \n",
       "456                                 731409   1844038   \n",
       "457                               25651000  62262134   \n",
       "458                               14216816  31236910   \n",
       "\n",
       "    Consum domèstic per càpita  \n",
       "0                       101.41  \n",
       "1                       162.46  \n",
       "2                       111.97  \n",
       "3                       135.96  \n",
       "4                       324.69  \n",
       "..                         ...  \n",
       "454                      95.22  \n",
       "455                     114.35  \n",
       "456                     303.13  \n",
       "457                     111.68  \n",
       "458                     115.81  \n",
       "\n",
       "[459 rows x 16 columns]"
      ]
     },
     "execution_count": 711,
     "metadata": {},
     "output_type": "execute_result"
    }
   ],
   "source": [
    "df"
   ]
  },
  {
   "cell_type": "code",
   "execution_count": 712,
   "metadata": {},
   "outputs": [
    {
     "name": "stdout",
     "output_type": "stream",
     "text": [
      "<class 'pandas.core.frame.DataFrame'>\n",
      "RangeIndex: 459 entries, 0 to 458\n",
      "Data columns (total 16 columns):\n",
      " #   Column                                  Non-Null Count  Dtype \n",
      "---  ------                                  --------------  ----- \n",
      " 0   sid                                     459 non-null    object\n",
      " 1   id                                      459 non-null    object\n",
      " 2   position                                459 non-null    int64 \n",
      " 3   created_at                              459 non-null    int64 \n",
      " 4   created_meta                            0 non-null      object\n",
      " 5   updated_at                              459 non-null    int64 \n",
      " 6   updated_meta                            0 non-null      object\n",
      " 7   meta                                    459 non-null    object\n",
      " 8   Any                                     459 non-null    object\n",
      " 9   Codi comarca                            459 non-null    object\n",
      " 10  Comarca                                 459 non-null    object\n",
      " 11  Població                                459 non-null    object\n",
      " 12  Domèstic xarxa                          459 non-null    object\n",
      " 13  Activitats econòmiques i fonts pròpies  459 non-null    object\n",
      " 14  Total                                   459 non-null    object\n",
      " 15  Consum domèstic per càpita              459 non-null    object\n",
      "dtypes: int64(3), object(13)\n",
      "memory usage: 57.5+ KB\n"
     ]
    }
   ],
   "source": [
    "#Checking the contents at the moment before the first processing:\n",
    "df.info()"
   ]
  },
  {
   "cell_type": "code",
   "execution_count": 713,
   "metadata": {},
   "outputs": [],
   "source": [
    "#Dropping columns that I'm sure that are not needed:\n",
    "columns_drop = [\"sid\",\"id\",\"position\",\"created_at\",\"created_meta\",\"updated_at\",\"updated_meta\",\"meta\"]\n",
    "df.drop(columns=columns_drop, inplace=True)"
   ]
  },
  {
   "cell_type": "code",
   "execution_count": 714,
   "metadata": {},
   "outputs": [],
   "source": [
    "# Standardizing header names:\n",
    "cols = []\n",
    "for i in range(len(df.columns)):\n",
    "    cols.append(df.columns[i].lower())\n",
    "df.columns = cols\n"
   ]
  },
  {
   "cell_type": "code",
   "execution_count": 715,
   "metadata": {},
   "outputs": [],
   "source": [
    "#Renaming columns:\n",
    "df = df.rename(columns={'codi comarca':'codi_comarca','població':'poblacio',\n",
    "                         'domèstic xarxa':'domestic_xarxa', 'activitats econòmiques i fonts pròpies':'activitats_economiques',\n",
    "                         'consum domèstic per càpita':'consum_dom'})"
   ]
  },
  {
   "cell_type": "code",
   "execution_count": 716,
   "metadata": {},
   "outputs": [],
   "source": [
    "#df.info() describes all columns as \"object\" type. We need to change them:\n",
    "df['poblacio'] = df['poblacio'].astype(int)"
   ]
  },
  {
   "cell_type": "code",
   "execution_count": 717,
   "metadata": {},
   "outputs": [],
   "source": [
    "#df['any'] = pd.to_datetime(df['any'], format='%Y')\n",
    "df['any'] = pd.to_datetime(df['any'], format='%Y').dt.year\n"
   ]
  },
  {
   "cell_type": "code",
   "execution_count": 718,
   "metadata": {},
   "outputs": [],
   "source": [
    "df['domestic_xarxa'] = df['domestic_xarxa'].astype(int)\n",
    "df['activitats_economiques'] = df['activitats_economiques'].astype(int)\n",
    "df['total'] = df['total'].astype(int)\n",
    "df['consum_dom'] = df['consum_dom'].astype(float)\n"
   ]
  },
  {
   "cell_type": "code",
   "execution_count": 719,
   "metadata": {},
   "outputs": [
    {
     "name": "stdout",
     "output_type": "stream",
     "text": [
      "<class 'pandas.core.frame.DataFrame'>\n",
      "RangeIndex: 459 entries, 0 to 458\n",
      "Data columns (total 8 columns):\n",
      " #   Column                  Non-Null Count  Dtype  \n",
      "---  ------                  --------------  -----  \n",
      " 0   any                     459 non-null    int32  \n",
      " 1   codi_comarca            459 non-null    object \n",
      " 2   comarca                 459 non-null    object \n",
      " 3   poblacio                459 non-null    int32  \n",
      " 4   domestic_xarxa          459 non-null    int32  \n",
      " 5   activitats_economiques  459 non-null    int32  \n",
      " 6   total                   459 non-null    int32  \n",
      " 7   consum_dom              459 non-null    float64\n",
      "dtypes: float64(1), int32(5), object(2)\n",
      "memory usage: 19.9+ KB\n"
     ]
    }
   ],
   "source": [
    "#Check the results of the changes in columns\n",
    "df.info()"
   ]
  },
  {
   "cell_type": "code",
   "execution_count": 720,
   "metadata": {},
   "outputs": [],
   "source": [
    "import numpy as np\n",
    "numericals = df.select_dtypes(np.number)"
   ]
  },
  {
   "cell_type": "code",
   "execution_count": 721,
   "metadata": {},
   "outputs": [
    {
     "data": {
      "text/plain": [
       "<function matplotlib.pyplot.show(close=None, block=None)>"
      ]
     },
     "execution_count": 721,
     "metadata": {},
     "output_type": "execute_result"
    },
    {
     "data": {
      "image/png": "[encoded data removed]",
      "text/plain": [
       "<Figure size 640x480 with 2 Axes>"
      ]
     },
     "metadata": {},
     "output_type": "display_data"
    }
   ],
   "source": [
    "import matplotlib.pyplot as plt\n",
    "%matplotlib inline\n",
    "import seaborn as sns\n",
    "\n",
    "#Checking for correlations with the data as we have it at the moment:\n",
    "cor = numericals.corr(method='spearman')\n",
    "sns.heatmap(cor, annot=True)\n",
    "plt.show"
   ]
  },
  {
   "cell_type": "markdown",
   "metadata": {},
   "source": [
    "Water quantity in the dams of Catalonia Internal Basins\n",
    "- As this dataframe may be too small for an in depth analysis, I will try to add more related data about\n",
    "the state of the reservoirs of the Internal Basins of Catalonia based on the values of Water level in the reservoir, Reservoir volume and Percentage of the reservoir volume with respect to the reservoir capacity (aggregated data from the previous day).\n",
    "- Public data from the government of spain (www.datos.gov.es)\n",
    "- The idea is by adding more info, calculate the total water consumption per region and day from the first set of data. We could then group the second dataset by day, and optionally by season if relevant, and then join them based on date. This will allow seing how water consumption varies with respect to the state of the reservoirs on a daily basis."
   ]
  },
  {
   "cell_type": "code",
   "execution_count": 722,
   "metadata": {},
   "outputs": [],
   "source": [
    "#Uploading the info:\n",
    "file1 = pd.read_csv(\"Data/embassaments.csv\")"
   ]
  },
  {
   "cell_type": "code",
   "execution_count": 723,
   "metadata": {},
   "outputs": [
    {
     "data": {
      "text/html": [
       "<div>\n",
       "<style scoped>\n",
       "    .dataframe tbody tr th:only-of-type {\n",
       "        vertical-align: middle;\n",
       "    }\n",
       "\n",
       "    .dataframe tbody tr th {\n",
       "        vertical-align: top;\n",
       "    }\n",
       "\n",
       "    .dataframe thead th {\n",
       "        text-align: right;\n",
       "    }\n",
       "</style>\n",
       "<table border=\"1\" class=\"dataframe\">\n",
       "  <thead>\n",
       "    <tr style=\"text-align: right;\">\n",
       "      <th></th>\n",
       "      <th>Dia</th>\n",
       "      <th>Estació</th>\n",
       "      <th>Nivell absolut (msnm)</th>\n",
       "      <th>Percentatge volum embassat (%)</th>\n",
       "      <th>Volum embassat (hm3)</th>\n",
       "    </tr>\n",
       "  </thead>\n",
       "  <tbody>\n",
       "    <tr>\n",
       "      <th>0</th>\n",
       "      <td>19/08/2004</td>\n",
       "      <td>Embassament de Darnius Boadella (Darnius)</td>\n",
       "      <td>151.89</td>\n",
       "      <td>64.9</td>\n",
       "      <td>39.67</td>\n",
       "    </tr>\n",
       "    <tr>\n",
       "      <th>1</th>\n",
       "      <td>07/01/2002</td>\n",
       "      <td>Embassament de Susqueda (Osor)</td>\n",
       "      <td>309.39</td>\n",
       "      <td>28.9</td>\n",
       "      <td>67.27</td>\n",
       "    </tr>\n",
       "    <tr>\n",
       "      <th>2</th>\n",
       "      <td>02/08/2001</td>\n",
       "      <td>Embassament de Riudecanyes</td>\n",
       "      <td>208.79</td>\n",
       "      <td>33.5</td>\n",
       "      <td>1.78</td>\n",
       "    </tr>\n",
       "    <tr>\n",
       "      <th>3</th>\n",
       "      <td>27/12/2004</td>\n",
       "      <td>Embassament de Siurana (Cornudella de Montsant)</td>\n",
       "      <td>482.78</td>\n",
       "      <td>82.1</td>\n",
       "      <td>10.03</td>\n",
       "    </tr>\n",
       "    <tr>\n",
       "      <th>4</th>\n",
       "      <td>31/05/2008</td>\n",
       "      <td>Embassament de Darnius Boadella (Darnius)</td>\n",
       "      <td>141.71</td>\n",
       "      <td>29.3</td>\n",
       "      <td>17.88</td>\n",
       "    </tr>\n",
       "    <tr>\n",
       "      <th>...</th>\n",
       "      <td>...</td>\n",
       "      <td>...</td>\n",
       "      <td>...</td>\n",
       "      <td>...</td>\n",
       "      <td>...</td>\n",
       "    </tr>\n",
       "    <tr>\n",
       "      <th>80023</th>\n",
       "      <td>14/04/2024</td>\n",
       "      <td>Embassament de Riudecanyes</td>\n",
       "      <td>194.75</td>\n",
       "      <td>2.8</td>\n",
       "      <td>0.15</td>\n",
       "    </tr>\n",
       "    <tr>\n",
       "      <th>80024</th>\n",
       "      <td>14/04/2024</td>\n",
       "      <td>Embassament de Siurana (Cornudella de Montsant)</td>\n",
       "      <td>453.26</td>\n",
       "      <td>2.8</td>\n",
       "      <td>0.34</td>\n",
       "    </tr>\n",
       "    <tr>\n",
       "      <th>80025</th>\n",
       "      <td>13/04/2024</td>\n",
       "      <td>Embassament de Sant Ponç (Clariana de Cardener)</td>\n",
       "      <td>514.73</td>\n",
       "      <td>33.4</td>\n",
       "      <td>8.15</td>\n",
       "    </tr>\n",
       "    <tr>\n",
       "      <th>80026</th>\n",
       "      <td>13/04/2024</td>\n",
       "      <td>Embassament de Riudecanyes</td>\n",
       "      <td>194.75</td>\n",
       "      <td>2.8</td>\n",
       "      <td>0.15</td>\n",
       "    </tr>\n",
       "    <tr>\n",
       "      <th>80027</th>\n",
       "      <td>14/04/2024</td>\n",
       "      <td>Embassament de Foix (Castellet i la Gornal)</td>\n",
       "      <td>97.87</td>\n",
       "      <td>60.8</td>\n",
       "      <td>2.27</td>\n",
       "    </tr>\n",
       "  </tbody>\n",
       "</table>\n",
       "<p>80028 rows × 5 columns</p>\n",
       "</div>"
      ],
      "text/plain": [
       "              Dia                                          Estació  \\\n",
       "0      19/08/2004        Embassament de Darnius Boadella (Darnius)   \n",
       "1      07/01/2002                   Embassament de Susqueda (Osor)   \n",
       "2      02/08/2001                       Embassament de Riudecanyes   \n",
       "3      27/12/2004  Embassament de Siurana (Cornudella de Montsant)   \n",
       "4      31/05/2008        Embassament de Darnius Boadella (Darnius)   \n",
       "...           ...                                              ...   \n",
       "80023  14/04/2024                       Embassament de Riudecanyes   \n",
       "80024  14/04/2024  Embassament de Siurana (Cornudella de Montsant)   \n",
       "80025  13/04/2024  Embassament de Sant Ponç (Clariana de Cardener)   \n",
       "80026  13/04/2024                       Embassament de Riudecanyes   \n",
       "80027  14/04/2024      Embassament de Foix (Castellet i la Gornal)   \n",
       "\n",
       "       Nivell absolut (msnm)  Percentatge volum embassat (%)  \\\n",
       "0                     151.89                            64.9   \n",
       "1                     309.39                            28.9   \n",
       "2                     208.79                            33.5   \n",
       "3                     482.78                            82.1   \n",
       "4                     141.71                            29.3   \n",
       "...                      ...                             ...   \n",
       "80023                 194.75                             2.8   \n",
       "80024                 453.26                             2.8   \n",
       "80025                 514.73                            33.4   \n",
       "80026                 194.75                             2.8   \n",
       "80027                  97.87                            60.8   \n",
       "\n",
       "       Volum embassat (hm3)  \n",
       "0                     39.67  \n",
       "1                     67.27  \n",
       "2                      1.78  \n",
       "3                     10.03  \n",
       "4                     17.88  \n",
       "...                     ...  \n",
       "80023                  0.15  \n",
       "80024                  0.34  \n",
       "80025                  8.15  \n",
       "80026                  0.15  \n",
       "80027                  2.27  \n",
       "\n",
       "[80028 rows x 5 columns]"
      ]
     },
     "execution_count": 723,
     "metadata": {},
     "output_type": "execute_result"
    }
   ],
   "source": [
    "file1"
   ]
  },
  {
   "cell_type": "code",
   "execution_count": 724,
   "metadata": {},
   "outputs": [],
   "source": [
    "#Importing url from the API \"https://datos.gob.es/en/apidata\" to get json info:\n",
    "url1 = \"https://analisi.transparenciacatalunya.cat/api/views/gn9e-3qhr/rows.json?accessType=DOWNLOAD\""
   ]
  },
  {
   "cell_type": "code",
   "execution_count": 725,
   "metadata": {},
   "outputs": [
    {
     "data": {
      "text/plain": [
       "200"
      ]
     },
     "execution_count": 725,
     "metadata": {},
     "output_type": "execute_result"
    }
   ],
   "source": [
    "#Checking the status:\n",
    "response = requests.get(url1)\n",
    "response.status_code"
   ]
  },
  {
   "cell_type": "code",
   "execution_count": 726,
   "metadata": {},
   "outputs": [],
   "source": [
    "#Saving the json data into a variable:\n",
    "data1 = response.json()"
   ]
  },
  {
   "cell_type": "markdown",
   "metadata": {},
   "source": [
    "Metadata:\n",
    "\n",
    "- Dia: Date on which the measure was taken\n",
    "- Estació: Reservoir where the measurement was taken\n",
    "- Nivell absolut (msnm): Water level (msnm) measured in the reservoir\n",
    "- Percentatge volum embassat (%): Percentage of water volume in relation to the maximum capacity of the reservoir\n",
    "- Volum embassat (hm3): Volume of water (hm3) to which the measured level corresponds"
   ]
  },
  {
   "cell_type": "code",
   "execution_count": 727,
   "metadata": {},
   "outputs": [
    {
     "data": {
      "text/plain": [
       "Estació\n",
       "Embassament de Darnius Boadella (Darnius)          8892\n",
       "Embassament de Susqueda (Osor)                     8892\n",
       "Embassament de Riudecanyes                         8892\n",
       "Embassament de Siurana (Cornudella de Montsant)    8892\n",
       "Embassament de Sau (Vilanova de Sau)               8892\n",
       "Embassament de la Baells (Cercs)                   8892\n",
       "Embassament de Foix (Castellet i la Gornal)        8892\n",
       "Embassament de Sant Ponç (Clariana de Cardener)    8892\n",
       "Embassament de la Llosa del Cavall (Navès)         8892\n",
       "Name: count, dtype: int64"
      ]
     },
     "execution_count": 727,
     "metadata": {},
     "output_type": "execute_result"
    }
   ],
   "source": [
    "#Exploration of the data:\n",
    "file1.Estació.value_counts()"
   ]
  },
  {
   "cell_type": "markdown",
   "metadata": {},
   "source": [
    "Relating regions with the Reservoirs:\n",
    "- Alt Empordà (codi comarca: 2) - Embassament de Darnius Boadella\n",
    "- Selva (codi comarca: 34) - Embassament de Susqueda\n",
    "- Baix Camp (codi comarca: 8) - Embassament de Riudecanyes\n",
    "- Priorat (codi comarca: 29) - Embassament de Siurana\n",
    "- Osona (codi comarca: 24) - Embassament de Sau\n",
    "- Berguedà (codi comarca: 14) - Embassament de la Baells\n",
    "- Alt Penedès (codi comarca: 3) - Embassament de Foix\n",
    "- Solsonès (codi comarca: 35) - Embassament de Sant Ponç i Embassament de la Llosa del Cavall"
   ]
  },
  {
   "cell_type": "code",
   "execution_count": 728,
   "metadata": {},
   "outputs": [
    {
     "name": "stdout",
     "output_type": "stream",
     "text": [
      "<class 'pandas.core.frame.DataFrame'>\n",
      "RangeIndex: 80028 entries, 0 to 80027\n",
      "Data columns (total 5 columns):\n",
      " #   Column                          Non-Null Count  Dtype  \n",
      "---  ------                          --------------  -----  \n",
      " 0   Dia                             80028 non-null  object \n",
      " 1   Estació                         80028 non-null  object \n",
      " 2   Nivell absolut (msnm)           79996 non-null  float64\n",
      " 3   Percentatge volum embassat (%)  80028 non-null  float64\n",
      " 4   Volum embassat (hm3)            80028 non-null  float64\n",
      "dtypes: float64(3), object(2)\n",
      "memory usage: 3.1+ MB\n"
     ]
    }
   ],
   "source": [
    "file1.info()"
   ]
  },
  {
   "cell_type": "code",
   "execution_count": 729,
   "metadata": {},
   "outputs": [
    {
     "data": {
      "text/plain": [
       "array([\"ALT CAMP, L'\", \"ALT EMPORDÀ, L'\", \"ALT PENEDÈS, L'\",\n",
       "       \"ALT URGELL, L'\", \"ALTA RIBAGORÇA, L'\", \"ANOIA, L'\", 'BAGES, EL',\n",
       "       'BAIX CAMP, EL', 'BAIX EBRE, EL', 'BAIX EMPORDÀ, EL',\n",
       "       'BAIX LLOBREGAT, EL', 'BAIX PENEDÈS, EL', 'BARCELONÈS, EL',\n",
       "       'BERGUEDÀ, EL', 'CERDANYA, LA', 'CONCA DE BARBERÀ, LA',\n",
       "       'GARRAF, EL', 'GARRIGUES, LES', 'GARROTXA, LA', 'GIRONÈS, EL',\n",
       "       'MARESME, EL', 'Moianès', 'MONTSIÀ, EL', 'NOGUERA, LA', 'OSONA',\n",
       "       'PALLARS JUSSÀ, EL', 'PALLARS SOBIRÀ, EL', \"PLA D'URGELL, EL\",\n",
       "       \"PLA DE L'ESTANY, EL\", 'PRIORAT, EL', \"RIBERA D'EBRE, LA\",\n",
       "       'RIPOLLÈS, EL', 'SEGARRA, LA', 'SEGRIÀ, EL', 'SELVA, LA',\n",
       "       'SOLSONÈS, EL', 'TARRAGONÈS, EL', 'TERRA ALTA', \"URGELL, L'\",\n",
       "       \"VAL D'ARAN, LA\", 'VALLÈS OCCIDENTAL, EL', 'VALLÈS ORIENTAL, EL'],\n",
       "      dtype=object)"
      ]
     },
     "execution_count": 729,
     "metadata": {},
     "output_type": "execute_result"
    }
   ],
   "source": [
    "df.comarca.unique()"
   ]
  },
  {
   "cell_type": "code",
   "execution_count": 730,
   "metadata": {},
   "outputs": [],
   "source": [
    "#Defining some functions in order to match some data:"
   ]
  },
  {
   "cell_type": "code",
   "execution_count": 731,
   "metadata": {},
   "outputs": [],
   "source": [
    "def matching_embassament(comarca):\n",
    "    matching_dict = {\n",
    "        \"ALT EMPORDÀ, L'\": 'Embassament de Darnius Boadella (Darnius)',\n",
    "        'SELVA, LA': 'Embassament de Susqueda (Osor)',\n",
    "        'BAIX CAMP, EL': 'Embassament de Riudecanyes',\n",
    "        'PRIORAT, EL': 'Embassament de Siurana (Cornudella de Montsant)',\n",
    "        'OSONA': 'Embassament de Sau (Vilanova de Sau)',\n",
    "        'BERGUEDÀ, EL': 'Embassament de la Baells (Cercs)',\n",
    "        \"ALT PENEDÈS, L'\": 'Embassament de Foix (Castellet i la Gornal)',\n",
    "        'VAL D\\'ARAN, LA': 'Embassament de Sant Ponç (Clariana de Cardener) i Embassament de la Llosa del Cavall (Navès)'\n",
    "    }\n",
    "    return matching_dict.get(comarca)\n",
    "\n"
   ]
  },
  {
   "cell_type": "code",
   "execution_count": 732,
   "metadata": {},
   "outputs": [],
   "source": [
    "def matching_codi_comarca(comarca):\n",
    "    matching_dict = {\n",
    "        \"ALT EMPORDÀ, L'\": '2',\n",
    "        'SELVA, LA': '34',\n",
    "        'BAIX CAMP, EL': '8',\n",
    "        'PRIORAT, EL': '29',\n",
    "        'OSONA': '24',\n",
    "        'BERGUEDÀ, EL': '14',\n",
    "        \"ALT PENEDÈS, L'\": '3',\n",
    "        'VAL D\\'ARAN, LA': '42'\n",
    "    }\n",
    "    return matching_dict.get(comarca)"
   ]
  },
  {
   "cell_type": "code",
   "execution_count": 733,
   "metadata": {},
   "outputs": [],
   "source": [
    "def matching_nom_comarca(codi_comarca):\n",
    "    matching_dict = {\n",
    "        '1': \"ALT CAMP, L'\",\n",
    "        '2': \"ALT EMPORDÀ, L'\",\n",
    "        '3': \"ALT PENEDÈS, L'\",\n",
    "        '4': \"ALT URGELL, L'\",\n",
    "        '5': \"ALTA RIBAGORÇA, L'\",\n",
    "        '6': \"ANOIA, L'\",\n",
    "        '7': 'BAGES, EL',\n",
    "        '8': 'BAIX CAMP, EL',\n",
    "        '9': 'BAIX EBRE, EL',\n",
    "        '10': 'BAIX EMPORDÀ, EL',\n",
    "        '11': 'BAIX LLOBREGAT, EL',\n",
    "        '12': 'BAIX PENEDÈS, EL',\n",
    "        '13': 'BARCELONÈS, EL',\n",
    "        '14': 'BERGUEDÀ, EL',\n",
    "        '15': 'CERDANYA, LA',\n",
    "        '16': 'CONCA DE BARBERÀ, LA',\n",
    "        '17': 'GARRAF, EL',\n",
    "        '18': 'GARRIGUES, LES',\n",
    "        '19': 'GARROTXA, LA',\n",
    "        '20': 'GIRONÈS, EL',\n",
    "        '21': 'MARESME, EL',\n",
    "        '22': 'Moianès',\n",
    "        '23': 'MONTSIÀ, EL',\n",
    "        '24': 'NOGUERA, LA',\n",
    "        '25': 'OSONA',\n",
    "        '26': 'PALLARS JUSSÀ, EL',\n",
    "        '27': \"PALLARS SOBIRÀ, EL\",\n",
    "        '28': \"PLA D'URGELL, EL\",\n",
    "        '29': 'PLA DE L\\'ESTANY, EL',\n",
    "        '30': 'PRIORAT, EL',\n",
    "        '31': \"RIBERA D'EBRE, LA\",\n",
    "        '32': 'RIPOLLÈS, EL',\n",
    "        '33': 'SEGARRA, LA',\n",
    "        '34': 'SEGRIÀ, EL',\n",
    "        '35': 'SELVA, LA',\n",
    "        '36': 'SOLSONÈS, EL',\n",
    "        '37': 'TARRAGONÈS, EL',\n",
    "        '38': \"TERRA ALTA\",\n",
    "        '39': 'URGELL, L\\'',\n",
    "        '40': \"VAL D'ARAN, LA\",\n",
    "        '41': 'VALLÈS OCCIDENTAL, EL',\n",
    "        '42': 'VALLÈS ORIENTAL, EL'\n",
    "    }\n",
    "    return matching_dict.get(codi_comarca)\n"
   ]
  },
  {
   "cell_type": "code",
   "execution_count": 734,
   "metadata": {},
   "outputs": [],
   "source": [
    "def matching_nom_estacio(estacio):\n",
    "    matching_dict = {\n",
    "        'Embassament de Darnius Boadella (Darnius)': \"ALT EMPORDÀ, L'\",\n",
    "        'Embassament de Susqueda (Osor)': 'SELVA, LA',\n",
    "        'Embassament de Riudecanyes': 'BAIX CAMP, EL',\n",
    "        'Embassament de Siurana (Cornudella de Montsant)': 'PRIORAT, EL',\n",
    "        'Embassament de Sau (Vilanova de Sau)': 'OSONA',\n",
    "        'Embassament de la Baells (Cercs)': 'BERGUEDÀ, EL',\n",
    "        'Embassament de Foix (Castellet i la Gornal)': \"ALT PENEDÈS, L'\",\n",
    "        'Embassament de Sant Ponç (Clariana de Cardener) i Embassament de la Llosa del Cavall (Navès)': 'VAL D\\'ARAN, LA'\n",
    "    }\n",
    "    return matching_dict.get(estacio)\n"
   ]
  },
  {
   "cell_type": "code",
   "execution_count": 735,
   "metadata": {},
   "outputs": [],
   "source": [
    "#Setting the two dfs as:\n",
    "df_consums = df #df_consum is the DataFrame with water consumption by region and day\n",
    "df_embassaments = file1 #df_reservoirs is the DataFrame with the state of the reservoirs per day"
   ]
  },
  {
   "cell_type": "code",
   "execution_count": 736,
   "metadata": {},
   "outputs": [],
   "source": [
    "# Adding a new column to df_consums with the names of matching reservoirs:\n",
    "df_consums['Embassament'] = df_consums['comarca'].apply(matching_embassament)"
   ]
  },
  {
   "cell_type": "code",
   "execution_count": 737,
   "metadata": {},
   "outputs": [
    {
     "name": "stderr",
     "output_type": "stream",
     "text": [
      "C:\\Users\\Elsa\\AppData\\Local\\Temp\\ipykernel_12140\\3938420333.py:2: UserWarning: Parsing dates in %d/%m/%Y format when dayfirst=False (the default) was specified. Pass `dayfirst=True` or specify a format to silence this warning.\n",
      "  df_embassaments['Dia'] = pd.to_datetime(df_embassaments['Dia'])\n"
     ]
    }
   ],
   "source": [
    "# Converting column to datetime:\n",
    "df_embassaments['Dia'] = pd.to_datetime(df_embassaments['Dia'])"
   ]
  },
  {
   "cell_type": "code",
   "execution_count": 738,
   "metadata": {},
   "outputs": [],
   "source": [
    "#Groupby and aggregation of total water consumption by year and region \n",
    "consum_comarca_any = df_consums.groupby(['any', 'codi_comarca']).agg({'consum_dom': 'sum'}).reset_index()"
   ]
  },
  {
   "cell_type": "code",
   "execution_count": 739,
   "metadata": {},
   "outputs": [],
   "source": [
    "#Adding region code so later it's easier to merge datasets:\n",
    "consum_comarca_any['comarca'] = consum_comarca_any['codi_comarca'].apply(matching_nom_comarca)"
   ]
  },
  {
   "cell_type": "code",
   "execution_count": 740,
   "metadata": {},
   "outputs": [],
   "source": [
    "# Adding values from df_consums to consum_comarca_any:\n",
    "consum_comarca_any = pd.merge(consum_comarca_any, df_consums[['codi_comarca', 'poblacio', 'domestic_xarxa', 'activitats_economiques']], on='codi_comarca', how='left')\n"
   ]
  },
  {
   "cell_type": "code",
   "execution_count": 741,
   "metadata": {},
   "outputs": [],
   "source": [
    "#We group by day and add the volume impounded and the percentage of volume impounded:\n",
    "estat_embassaments_dia = df_embassaments.groupby(['Dia', 'Estació']).agg({'Volum embassat (hm3)': 'sum', 'Percentatge volum embassat (%)': 'mean'}).reset_index()"
   ]
  },
  {
   "cell_type": "code",
   "execution_count": 742,
   "metadata": {},
   "outputs": [],
   "source": [
    "#Converting column dia-year:\n",
    "estat_embassaments_dia['any'] = estat_embassaments_dia['Dia'].dt.year"
   ]
  },
  {
   "cell_type": "code",
   "execution_count": 743,
   "metadata": {},
   "outputs": [],
   "source": [
    "#Adding region column using matching_nom_comarca function:\n",
    "estat_embassaments_dia['comarca'] = estat_embassaments_dia['Estació'].apply(matching_nom_estacio)"
   ]
  },
  {
   "cell_type": "code",
   "execution_count": 744,
   "metadata": {},
   "outputs": [],
   "source": [
    "#Adding region code using matching_codi_comarca function:\n",
    "estat_embassaments_dia['codi_comarca'] = estat_embassaments_dia['comarca'].apply(matching_codi_comarca)"
   ]
  },
  {
   "cell_type": "code",
   "execution_count": 745,
   "metadata": {},
   "outputs": [
    {
     "name": "stdout",
     "output_type": "stream",
     "text": [
      "<class 'pandas.core.frame.DataFrame'>\n",
      "RangeIndex: 5025 entries, 0 to 5024\n",
      "Data columns (total 7 columns):\n",
      " #   Column                  Non-Null Count  Dtype  \n",
      "---  ------                  --------------  -----  \n",
      " 0   any                     5025 non-null   int32  \n",
      " 1   codi_comarca            5025 non-null   object \n",
      " 2   consum_dom              5025 non-null   float64\n",
      " 3   comarca                 5025 non-null   object \n",
      " 4   poblacio                5025 non-null   int32  \n",
      " 5   domestic_xarxa          5025 non-null   int32  \n",
      " 6   activitats_economiques  5025 non-null   int32  \n",
      "dtypes: float64(1), int32(4), object(2)\n",
      "memory usage: 196.4+ KB\n"
     ]
    }
   ],
   "source": [
    "consum_comarca_any.info()"
   ]
  },
  {
   "cell_type": "code",
   "execution_count": 746,
   "metadata": {},
   "outputs": [
    {
     "name": "stdout",
     "output_type": "stream",
     "text": [
      "<class 'pandas.core.frame.DataFrame'>\n",
      "RangeIndex: 80028 entries, 0 to 80027\n",
      "Data columns (total 7 columns):\n",
      " #   Column                          Non-Null Count  Dtype         \n",
      "---  ------                          --------------  -----         \n",
      " 0   Dia                             80028 non-null  datetime64[ns]\n",
      " 1   Estació                         80028 non-null  object        \n",
      " 2   Volum embassat (hm3)            80028 non-null  float64       \n",
      " 3   Percentatge volum embassat (%)  80028 non-null  float64       \n",
      " 4   any                             80028 non-null  int32         \n",
      " 5   comarca                         62244 non-null  object        \n",
      " 6   codi_comarca                    62244 non-null  object        \n",
      "dtypes: datetime64[ns](1), float64(2), int32(1), object(3)\n",
      "memory usage: 4.0+ MB\n"
     ]
    }
   ],
   "source": [
    "estat_embassaments_dia.info()"
   ]
  },
  {
   "cell_type": "code",
   "execution_count": 747,
   "metadata": {},
   "outputs": [],
   "source": [
    "#Let's join the two DataFrames:\n",
    "resultat_final = pd.merge(consum_comarca_any, estat_embassaments_dia, on=['any', 'codi_comarca'], how='inner')\n"
   ]
  },
  {
   "cell_type": "code",
   "execution_count": 748,
   "metadata": {},
   "outputs": [
    {
     "data": {
      "text/html": [
       "<div>\n",
       "<style scoped>\n",
       "    .dataframe tbody tr th:only-of-type {\n",
       "        vertical-align: middle;\n",
       "    }\n",
       "\n",
       "    .dataframe tbody tr th {\n",
       "        vertical-align: top;\n",
       "    }\n",
       "\n",
       "    .dataframe thead th {\n",
       "        text-align: right;\n",
       "    }\n",
       "</style>\n",
       "<table border=\"1\" class=\"dataframe\">\n",
       "  <thead>\n",
       "    <tr style=\"text-align: right;\">\n",
       "      <th></th>\n",
       "      <th>any</th>\n",
       "      <th>codi_comarca</th>\n",
       "      <th>consum_dom</th>\n",
       "      <th>comarca_x</th>\n",
       "      <th>poblacio</th>\n",
       "      <th>domestic_xarxa</th>\n",
       "      <th>activitats_economiques</th>\n",
       "      <th>Dia</th>\n",
       "      <th>Estació</th>\n",
       "      <th>Volum embassat (hm3)</th>\n",
       "      <th>Percentatge volum embassat (%)</th>\n",
       "      <th>comarca_y</th>\n",
       "    </tr>\n",
       "  </thead>\n",
       "  <tbody>\n",
       "    <tr>\n",
       "      <th>0</th>\n",
       "      <td>2012</td>\n",
       "      <td>14</td>\n",
       "      <td>97.08</td>\n",
       "      <td>BERGUEDÀ, EL</td>\n",
       "      <td>40279</td>\n",
       "      <td>1433782</td>\n",
       "      <td>1069281</td>\n",
       "      <td>2012-01-01</td>\n",
       "      <td>Embassament de la Baells (Cercs)</td>\n",
       "      <td>102.35</td>\n",
       "      <td>93.5</td>\n",
       "      <td>BERGUEDÀ, EL</td>\n",
       "    </tr>\n",
       "    <tr>\n",
       "      <th>1</th>\n",
       "      <td>2012</td>\n",
       "      <td>14</td>\n",
       "      <td>97.08</td>\n",
       "      <td>BERGUEDÀ, EL</td>\n",
       "      <td>40279</td>\n",
       "      <td>1433782</td>\n",
       "      <td>1069281</td>\n",
       "      <td>2012-01-02</td>\n",
       "      <td>Embassament de la Baells (Cercs)</td>\n",
       "      <td>102.26</td>\n",
       "      <td>93.4</td>\n",
       "      <td>BERGUEDÀ, EL</td>\n",
       "    </tr>\n",
       "    <tr>\n",
       "      <th>2</th>\n",
       "      <td>2012</td>\n",
       "      <td>14</td>\n",
       "      <td>97.08</td>\n",
       "      <td>BERGUEDÀ, EL</td>\n",
       "      <td>40279</td>\n",
       "      <td>1433782</td>\n",
       "      <td>1069281</td>\n",
       "      <td>2012-01-03</td>\n",
       "      <td>Embassament de la Baells (Cercs)</td>\n",
       "      <td>102.18</td>\n",
       "      <td>93.4</td>\n",
       "      <td>BERGUEDÀ, EL</td>\n",
       "    </tr>\n",
       "    <tr>\n",
       "      <th>3</th>\n",
       "      <td>2012</td>\n",
       "      <td>14</td>\n",
       "      <td>97.08</td>\n",
       "      <td>BERGUEDÀ, EL</td>\n",
       "      <td>40279</td>\n",
       "      <td>1433782</td>\n",
       "      <td>1069281</td>\n",
       "      <td>2012-01-04</td>\n",
       "      <td>Embassament de la Baells (Cercs)</td>\n",
       "      <td>102.11</td>\n",
       "      <td>93.3</td>\n",
       "      <td>BERGUEDÀ, EL</td>\n",
       "    </tr>\n",
       "    <tr>\n",
       "      <th>4</th>\n",
       "      <td>2012</td>\n",
       "      <td>14</td>\n",
       "      <td>97.08</td>\n",
       "      <td>BERGUEDÀ, EL</td>\n",
       "      <td>40279</td>\n",
       "      <td>1433782</td>\n",
       "      <td>1069281</td>\n",
       "      <td>2012-01-05</td>\n",
       "      <td>Embassament de la Baells (Cercs)</td>\n",
       "      <td>102.05</td>\n",
       "      <td>93.3</td>\n",
       "      <td>BERGUEDÀ, EL</td>\n",
       "    </tr>\n",
       "    <tr>\n",
       "      <th>...</th>\n",
       "      <td>...</td>\n",
       "      <td>...</td>\n",
       "      <td>...</td>\n",
       "      <td>...</td>\n",
       "      <td>...</td>\n",
       "      <td>...</td>\n",
       "      <td>...</td>\n",
       "      <td>...</td>\n",
       "      <td>...</td>\n",
       "      <td>...</td>\n",
       "      <td>...</td>\n",
       "      <td>...</td>\n",
       "    </tr>\n",
       "    <tr>\n",
       "      <th>309381</th>\n",
       "      <td>2022</td>\n",
       "      <td>8</td>\n",
       "      <td>136.47</td>\n",
       "      <td>BAIX CAMP, EL</td>\n",
       "      <td>193535</td>\n",
       "      <td>10540527</td>\n",
       "      <td>4394018</td>\n",
       "      <td>2022-12-27</td>\n",
       "      <td>Embassament de Riudecanyes</td>\n",
       "      <td>0.74</td>\n",
       "      <td>13.9</td>\n",
       "      <td>BAIX CAMP, EL</td>\n",
       "    </tr>\n",
       "    <tr>\n",
       "      <th>309382</th>\n",
       "      <td>2022</td>\n",
       "      <td>8</td>\n",
       "      <td>136.47</td>\n",
       "      <td>BAIX CAMP, EL</td>\n",
       "      <td>193535</td>\n",
       "      <td>10540527</td>\n",
       "      <td>4394018</td>\n",
       "      <td>2022-12-28</td>\n",
       "      <td>Embassament de Riudecanyes</td>\n",
       "      <td>0.74</td>\n",
       "      <td>13.8</td>\n",
       "      <td>BAIX CAMP, EL</td>\n",
       "    </tr>\n",
       "    <tr>\n",
       "      <th>309383</th>\n",
       "      <td>2022</td>\n",
       "      <td>8</td>\n",
       "      <td>136.47</td>\n",
       "      <td>BAIX CAMP, EL</td>\n",
       "      <td>193535</td>\n",
       "      <td>10540527</td>\n",
       "      <td>4394018</td>\n",
       "      <td>2022-12-29</td>\n",
       "      <td>Embassament de Riudecanyes</td>\n",
       "      <td>0.73</td>\n",
       "      <td>13.8</td>\n",
       "      <td>BAIX CAMP, EL</td>\n",
       "    </tr>\n",
       "    <tr>\n",
       "      <th>309384</th>\n",
       "      <td>2022</td>\n",
       "      <td>8</td>\n",
       "      <td>136.47</td>\n",
       "      <td>BAIX CAMP, EL</td>\n",
       "      <td>193535</td>\n",
       "      <td>10540527</td>\n",
       "      <td>4394018</td>\n",
       "      <td>2022-12-30</td>\n",
       "      <td>Embassament de Riudecanyes</td>\n",
       "      <td>0.73</td>\n",
       "      <td>13.7</td>\n",
       "      <td>BAIX CAMP, EL</td>\n",
       "    </tr>\n",
       "    <tr>\n",
       "      <th>309385</th>\n",
       "      <td>2022</td>\n",
       "      <td>8</td>\n",
       "      <td>136.47</td>\n",
       "      <td>BAIX CAMP, EL</td>\n",
       "      <td>193535</td>\n",
       "      <td>10540527</td>\n",
       "      <td>4394018</td>\n",
       "      <td>2022-12-31</td>\n",
       "      <td>Embassament de Riudecanyes</td>\n",
       "      <td>0.73</td>\n",
       "      <td>13.6</td>\n",
       "      <td>BAIX CAMP, EL</td>\n",
       "    </tr>\n",
       "  </tbody>\n",
       "</table>\n",
       "<p>309386 rows × 12 columns</p>\n",
       "</div>"
      ],
      "text/plain": [
       "         any codi_comarca  consum_dom      comarca_x  poblacio  \\\n",
       "0       2012           14       97.08   BERGUEDÀ, EL     40279   \n",
       "1       2012           14       97.08   BERGUEDÀ, EL     40279   \n",
       "2       2012           14       97.08   BERGUEDÀ, EL     40279   \n",
       "3       2012           14       97.08   BERGUEDÀ, EL     40279   \n",
       "4       2012           14       97.08   BERGUEDÀ, EL     40279   \n",
       "...      ...          ...         ...            ...       ...   \n",
       "309381  2022            8      136.47  BAIX CAMP, EL    193535   \n",
       "309382  2022            8      136.47  BAIX CAMP, EL    193535   \n",
       "309383  2022            8      136.47  BAIX CAMP, EL    193535   \n",
       "309384  2022            8      136.47  BAIX CAMP, EL    193535   \n",
       "309385  2022            8      136.47  BAIX CAMP, EL    193535   \n",
       "\n",
       "        domestic_xarxa  activitats_economiques        Dia  \\\n",
       "0              1433782                 1069281 2012-01-01   \n",
       "1              1433782                 1069281 2012-01-02   \n",
       "2              1433782                 1069281 2012-01-03   \n",
       "3              1433782                 1069281 2012-01-04   \n",
       "4              1433782                 1069281 2012-01-05   \n",
       "...                ...                     ...        ...   \n",
       "309381        10540527                 4394018 2022-12-27   \n",
       "309382        10540527                 4394018 2022-12-28   \n",
       "309383        10540527                 4394018 2022-12-29   \n",
       "309384        10540527                 4394018 2022-12-30   \n",
       "309385        10540527                 4394018 2022-12-31   \n",
       "\n",
       "                                 Estació  Volum embassat (hm3)  \\\n",
       "0       Embassament de la Baells (Cercs)                102.35   \n",
       "1       Embassament de la Baells (Cercs)                102.26   \n",
       "2       Embassament de la Baells (Cercs)                102.18   \n",
       "3       Embassament de la Baells (Cercs)                102.11   \n",
       "4       Embassament de la Baells (Cercs)                102.05   \n",
       "...                                  ...                   ...   \n",
       "309381        Embassament de Riudecanyes                  0.74   \n",
       "309382        Embassament de Riudecanyes                  0.74   \n",
       "309383        Embassament de Riudecanyes                  0.73   \n",
       "309384        Embassament de Riudecanyes                  0.73   \n",
       "309385        Embassament de Riudecanyes                  0.73   \n",
       "\n",
       "        Percentatge volum embassat (%)      comarca_y  \n",
       "0                                 93.5   BERGUEDÀ, EL  \n",
       "1                                 93.4   BERGUEDÀ, EL  \n",
       "2                                 93.4   BERGUEDÀ, EL  \n",
       "3                                 93.3   BERGUEDÀ, EL  \n",
       "4                                 93.3   BERGUEDÀ, EL  \n",
       "...                                ...            ...  \n",
       "309381                            13.9  BAIX CAMP, EL  \n",
       "309382                            13.8  BAIX CAMP, EL  \n",
       "309383                            13.8  BAIX CAMP, EL  \n",
       "309384                            13.7  BAIX CAMP, EL  \n",
       "309385                            13.6  BAIX CAMP, EL  \n",
       "\n",
       "[309386 rows x 12 columns]"
      ]
     },
     "execution_count": 748,
     "metadata": {},
     "output_type": "execute_result"
    }
   ],
   "source": [
    "resultat_final"
   ]
  },
  {
   "cell_type": "code",
   "execution_count": 749,
   "metadata": {},
   "outputs": [
    {
     "name": "stdout",
     "output_type": "stream",
     "text": [
      "<class 'pandas.core.frame.DataFrame'>\n",
      "RangeIndex: 309386 entries, 0 to 309385\n",
      "Data columns (total 12 columns):\n",
      " #   Column                          Non-Null Count   Dtype         \n",
      "---  ------                          --------------   -----         \n",
      " 0   any                             309386 non-null  int32         \n",
      " 1   codi_comarca                    309386 non-null  object        \n",
      " 2   consum_dom                      309386 non-null  float64       \n",
      " 3   comarca_x                       309386 non-null  object        \n",
      " 4   poblacio                        309386 non-null  int32         \n",
      " 5   domestic_xarxa                  309386 non-null  int32         \n",
      " 6   activitats_economiques          309386 non-null  int32         \n",
      " 7   Dia                             309386 non-null  datetime64[ns]\n",
      " 8   Estació                         309386 non-null  object        \n",
      " 9   Volum embassat (hm3)            309386 non-null  float64       \n",
      " 10  Percentatge volum embassat (%)  309386 non-null  float64       \n",
      " 11  comarca_y                       309386 non-null  object        \n",
      "dtypes: datetime64[ns](1), float64(3), int32(4), object(4)\n",
      "memory usage: 23.6+ MB\n"
     ]
    }
   ],
   "source": [
    "resultat_final.info()"
   ]
  },
  {
   "cell_type": "code",
   "execution_count": 750,
   "metadata": {},
   "outputs": [],
   "source": [
    "#resultat_final cleaning:\n",
    "resultat = resultat_final.rename(columns={'comarca_x': 'comarca', 'comarca_y': 'comarca_embassament'})"
   ]
  },
  {
   "cell_type": "code",
   "execution_count": 751,
   "metadata": {},
   "outputs": [],
   "source": [
    "resultat = resultat.drop(columns='comarca_embassament')"
   ]
  },
  {
   "cell_type": "code",
   "execution_count": 752,
   "metadata": {},
   "outputs": [],
   "source": [
    "#Standarizing all names in english:\n",
    "resultat = resultat.rename(columns={'any':'year','codi_comarca':'region_code','consum_dom':'domestic_consumption',\n",
    "                                    'comarca':'region','poblacio':'population','domestic_xarxa':'domestic_network',\n",
    "                                    'activitats_economiques':'economic_activities','Dia':'day',\n",
    "                                    'Estació':'reservoir','Volum embassat (hm3)':'reservoir_vol_hm3',\n",
    "                                    'Percentatge volum embassat (%)':'reservoir_vol_percent'})"
   ]
  },
  {
   "cell_type": "code",
   "execution_count": 753,
   "metadata": {},
   "outputs": [],
   "source": [
    "column_order = ['day','year','region_code','region','population','domestic_consumption',\n",
    "                'domestic_network','economic_activities','reservoir','reservoir_vol_hm3','reservoir_vol_percent']\n",
    "data = resultat[column_order]"
   ]
  },
  {
   "cell_type": "code",
   "execution_count": 754,
   "metadata": {},
   "outputs": [
    {
     "name": "stdout",
     "output_type": "stream",
     "text": [
      "<class 'pandas.core.frame.DataFrame'>\n",
      "RangeIndex: 309386 entries, 0 to 309385\n",
      "Data columns (total 11 columns):\n",
      " #   Column                 Non-Null Count   Dtype         \n",
      "---  ------                 --------------   -----         \n",
      " 0   day                    309386 non-null  datetime64[ns]\n",
      " 1   year                   309386 non-null  int32         \n",
      " 2   region_code            309386 non-null  object        \n",
      " 3   region                 309386 non-null  object        \n",
      " 4   population             309386 non-null  int32         \n",
      " 5   domestic_consumption   309386 non-null  float64       \n",
      " 6   domestic_network       309386 non-null  int32         \n",
      " 7   economic_activities    309386 non-null  int32         \n",
      " 8   reservoir              309386 non-null  object        \n",
      " 9   reservoir_vol_hm3      309386 non-null  float64       \n",
      " 10  reservoir_vol_percent  309386 non-null  float64       \n",
      "dtypes: datetime64[ns](1), float64(3), int32(4), object(3)\n",
      "memory usage: 21.2+ MB\n"
     ]
    }
   ],
   "source": [
    "data.info()"
   ]
  },
  {
   "cell_type": "markdown",
   "metadata": {},
   "source": [
    "Final metadata:\n",
    "- **day**: Date on which the measure was taken                   \n",
    "- **year**: Year                            \n",
    "- **region_code**: number of the region (comarca)                  \n",
    "- **region**: name of the region                        \n",
    "- **population**: Number of inhabitants of the region based on data from the Municipal Register               \n",
    "- **domestic_consumption**: Household consumption of the network per person per day. It is calculated as follows: (Domestic network1000)/(Population365). Measured in liters/person/day         \n",
    "- **domestic_network**: Volume consumed billed to households connected to the water supply network. Measured in cubic meters               \n",
    "- **economic_activities**: Volume consumed and billed to industrial and service uses connected to the water supply network and to all users of their own sources. Measured in cubic meters            \n",
    "- **reservoir**: Reservoir where the measurement was taken                      \n",
    "- **reservoir_vol**: Volume of water (hm3) to which the measured level corresponds               \n",
    "- **reservoir_vol_percent**: Percentage of water volume in relation to the maximum capacity of the reservoir  "
   ]
  },
  {
   "cell_type": "code",
   "execution_count": 755,
   "metadata": {},
   "outputs": [],
   "source": [
    "numericals = data.select_dtypes(np.number)"
   ]
  },
  {
   "cell_type": "code",
   "execution_count": 756,
   "metadata": {},
   "outputs": [
    {
     "data": {
      "text/plain": [
       "<function matplotlib.pyplot.show(close=None, block=None)>"
      ]
     },
     "execution_count": 756,
     "metadata": {},
     "output_type": "execute_result"
    },
    {
     "data": {
      "image/png": "[encoded data removed]",
      "text/plain": [
       "<Figure size 640x480 with 2 Axes>"
      ]
     },
     "metadata": {},
     "output_type": "display_data"
    }
   ],
   "source": [
    "#Checking for correlations with the data:\n",
    "cor = numericals.corr(method='spearman')\n",
    "sns.heatmap(cor, annot=True)\n",
    "plt.show"
   ]
  },
  {
   "cell_type": "code",
   "execution_count": 757,
   "metadata": {},
   "outputs": [
    {
     "data": {
      "image/png": "[encoded data removed]",
      "text/plain": [
       "<Figure size 1200x800 with 7 Axes>"
      ]
     },
     "metadata": {},
     "output_type": "display_data"
    }
   ],
   "source": [
    "#Feature Engineering:\n",
    "#Plotting distribution of numerical values:\n",
    "sns.set_context('poster')\n",
    "sns.set(rc={'figure.figsize': (16., 9.)})\n",
    "sns.set_style('whitegrid')\n",
    "\n",
    "plt.figure(figsize=(12, 8))\n",
    "\n",
    "for i, column in enumerate(numericals.columns):\n",
    "    plt.subplot(3, 3, i+1)  \n",
    "    sns.histplot(numericals[column], kde=True)  \n",
    "    plt.title(column)  \n",
    "    plt.xlabel('')  \n",
    "\n",
    "plt.tight_layout()\n",
    "plt.show()\n",
    "\n"
   ]
  },
  {
   "cell_type": "code",
   "execution_count": 758,
   "metadata": {},
   "outputs": [],
   "source": [
    "def log_transfom_clean_(x):\n",
    "    if np.isfinite(x) and x!=0:\n",
    "        return np.log(x)\n",
    "    else:\n",
    "        return np.NAN # We are returning NaNs so that we can replace them later"
   ]
  },
  {
   "cell_type": "code",
   "execution_count": 759,
   "metadata": {},
   "outputs": [],
   "source": [
    "def sqrt_transfom_clean_(x):\n",
    "    if np.isfinite(x) and x>=0:\n",
    "        return np.sqrt(x)\n",
    "    else:\n",
    "        return np.NAN # We are returning NaNs so that we can replace them later"
   ]
  },
  {
   "cell_type": "code",
   "execution_count": 761,
   "metadata": {},
   "outputs": [],
   "source": [
    "#Scaling numerical data so everything its within the same range (to follow normal distribution)\n",
    "from sklearn.preprocessing import StandardScaler\n",
    "optimusprime=StandardScaler().fit(numericals)\n",
    "x_standarized = optimusprime.transform(numericals)"
   ]
  },
  {
   "cell_type": "code",
   "execution_count": 766,
   "metadata": {},
   "outputs": [],
   "source": [
    "from sklearn.preprocessing import MinMaxScaler\n",
    "scaler = MinMaxScaler()\n",
    "numericals['population_normalized'] = scaler.fit_transform(numericals[['population']])"
   ]
  },
  {
   "cell_type": "code",
   "execution_count": 769,
   "metadata": {},
   "outputs": [],
   "source": [
    "#Keeping only normalized variable\n",
    "numericals.drop(columns=['population'], inplace=True)"
   ]
  },
  {
   "cell_type": "markdown",
   "metadata": {},
   "source": [
    "In some variables there is a lack of data density: This may be due to a lack of sampling or data collection in some intervals."
   ]
  },
  {
   "cell_type": "code",
   "execution_count": null,
   "metadata": {},
   "outputs": [],
   "source": [
    "pd.Series(map(sqrt_transfom_clean_, data['domestic_consumption'])).hist()\n",
    "plt.show()"
   ]
  },
  {
   "cell_type": "code",
   "execution_count": 776,
   "metadata": {},
   "outputs": [],
   "source": [
    "# Use log transformation to replace the values of the column\n",
    "numericals['domestic_consumption'] = list(map(sqrt_transfom_clean_, numericals['domestic_consumption']))\n",
    "numericals['domestic_consumption'] = numericals['domestic_consumption'].fillna(np.mean(numericals['domestic_consumption']))"
   ]
  },
  {
   "cell_type": "code",
   "execution_count": 781,
   "metadata": {},
   "outputs": [],
   "source": [
    "numericals['reservoir_vol_percent'] = np.log(numericals['reservoir_vol_percent'])"
   ]
  },
  {
   "cell_type": "code",
   "execution_count": null,
   "metadata": {},
   "outputs": [],
   "source": [
    "pd.Series(map(log_transfom_clean_, data['reservoir_vol_percent'])).hist()\n",
    "plt.show()"
   ]
  },
  {
   "cell_type": "code",
   "execution_count": 784,
   "metadata": {},
   "outputs": [
    {
     "data": {
      "image/png": "[encoded data removed]",
      "text/plain": [
       "<Figure size 1600x900 with 1 Axes>"
      ]
     },
     "metadata": {},
     "output_type": "display_data"
    }
   ],
   "source": [
    "sns.histplot(numericals['reservoir_vol_percent'], kde=True)  \n",
    "plt.title(column)  \n",
    "plt.xlabel('')  \n",
    "\n",
    "plt.tight_layout()\n",
    "plt.show()"
   ]
  },
  {
   "cell_type": "code",
   "execution_count": 783,
   "metadata": {},
   "outputs": [
    {
     "name": "stdout",
     "output_type": "stream",
     "text": [
      "[[1.12490097e-03 5.50872633e-06 8.01621649e-01 ... 5.72234661e-05\n",
      "  2.53715567e-06 9.23659148e-08]\n",
      " [1.12490097e-03 5.50872633e-06 8.01621649e-01 ... 5.71731475e-05\n",
      "  2.53655738e-06 9.23659148e-08]\n",
      " [1.12490097e-03 5.50872633e-06 8.01621649e-01 ... 5.71284198e-05\n",
      "  2.53655738e-06 9.23659148e-08]\n",
      " ...\n",
      " [1.77062065e-04 1.02297017e-06 9.23010621e-01 ... 6.39244843e-08\n",
      "  2.29836420e-07 8.57129015e-08]\n",
      " [1.77062065e-04 1.02297017e-06 9.23010621e-01 ... 6.39244843e-08\n",
      "  2.29199560e-07 8.57129015e-08]\n",
      " [1.77062065e-04 1.02297017e-06 9.23010621e-01 ... 6.39244843e-08\n",
      "  2.28558035e-07 8.57129015e-08]]\n"
     ]
    }
   ],
   "source": [
    "from sklearn.preprocessing import Normalizer #establish what type of normalization I want to do\n",
    "transformer = Normalizer().fit(numericals) #the variable with which we are going to transform the data (the frame)\n",
    "x_normalized=transformer.transform(numericals)\n",
    "print(x_normalized)"
   ]
  },
  {
   "cell_type": "code",
   "execution_count": 786,
   "metadata": {},
   "outputs": [
    {
     "data": {
      "image/png": "[encoded data removed]",
      "text/plain": [
       "<Figure size 1600x900 with 1 Axes>"
      ]
     },
     "metadata": {},
     "output_type": "display_data"
    }
   ],
   "source": [
    "pd.Series(map(log_transfom_clean_, numericals['reservoir_vol_hm3'])).hist()\n",
    "plt.show()"
   ]
  },
  {
   "cell_type": "code",
   "execution_count": 787,
   "metadata": {},
   "outputs": [],
   "source": [
    "numericals['reservoir_vol_hm3'] = list(map(sqrt_transfom_clean_, numericals['reservoir_vol_hm3']))\n",
    "numericals['reservoir_vol_hm3'] = numericals['reservoir_vol_hm3'].fillna(np.mean(numericals['reservoir_vol_hm3']))"
   ]
  },
  {
   "cell_type": "code",
   "execution_count": 788,
   "metadata": {},
   "outputs": [
    {
     "data": {
      "image/png": "[encoded data removed]",
      "text/plain": [
       "<Figure size 1600x900 with 1 Axes>"
      ]
     },
     "metadata": {},
     "output_type": "display_data"
    }
   ],
   "source": [
    "sns.histplot(numericals['reservoir_vol_hm3'], kde=True)  \n",
    "plt.title(column)  \n",
    "plt.xlabel('')  \n",
    "\n",
    "plt.tight_layout()\n",
    "plt.show()"
   ]
  },
  {
   "cell_type": "code",
   "execution_count": 831,
   "metadata": {},
   "outputs": [
    {
     "data": {
      "text/plain": [
       "<function matplotlib.pyplot.show(close=None, block=None)>"
      ]
     },
     "execution_count": 831,
     "metadata": {},
     "output_type": "execute_result"
    },
    {
     "data": {
      "image/png": "[encoded data removed]",
      "text/plain": [
       "<Figure size 1600x900 with 2 Axes>"
      ]
     },
     "metadata": {},
     "output_type": "display_data"
    }
   ],
   "source": [
    "cor = numericals.corr(method='spearman')\n",
    "sns.heatmap(cor, annot=True)\n",
    "plt.show"
   ]
  },
  {
   "cell_type": "code",
   "execution_count": 802,
   "metadata": {},
   "outputs": [],
   "source": [
    "#Let's try \n",
    "from sklearn.model_selection import train_test_split\n",
    "from sklearn.linear_model import LinearRegression\n",
    "from sklearn.metrics import mean_squared_error\n",
    "from sklearn import linear_model\n",
    "from sklearn.metrics import r2_score"
   ]
  },
  {
   "cell_type": "code",
   "execution_count": 793,
   "metadata": {},
   "outputs": [],
   "source": [
    "Y = numericals['reservoir_vol_hm3']\n",
    "X = numericals[['domestic_consumption','population_normalized','domestic_network','economic_activities',\n",
    "               'reservoir_vol_percent']]"
   ]
  },
  {
   "cell_type": "code",
   "execution_count": 794,
   "metadata": {},
   "outputs": [],
   "source": [
    "X_train, X_test, y_train, y_test = train_test_split(X,Y,test_size=0.8,random_state=42)"
   ]
  },
  {
   "cell_type": "code",
   "execution_count": 797,
   "metadata": {},
   "outputs": [],
   "source": [
    "lm = linear_model.LinearRegression()\n",
    "model=lm.fit(X_train, y_train)"
   ]
  },
  {
   "cell_type": "code",
   "execution_count": 798,
   "metadata": {},
   "outputs": [],
   "source": [
    "predictions = lm.predict(X_test)"
   ]
  },
  {
   "cell_type": "code",
   "execution_count": 800,
   "metadata": {},
   "outputs": [
    {
     "name": "stdout",
     "output_type": "stream",
     "text": [
      "8.975130518559418\n",
      "2.9958522190788077\n"
     ]
    }
   ],
   "source": [
    "import math\n",
    "mse = mean_squared_error(y_test, predictions)\n",
    "print(mse)\n",
    "\n",
    "rmse = math.sqrt(mse)\n",
    "print(rmse)"
   ]
  },
  {
   "cell_type": "code",
   "execution_count": 803,
   "metadata": {},
   "outputs": [
    {
     "name": "stdout",
     "output_type": "stream",
     "text": [
      "0.5491878760201379\n"
     ]
    }
   ],
   "source": [
    "r2 = r2_score(y_test, predictions)\n",
    "print(r2)"
   ]
  },
  {
   "cell_type": "code",
   "execution_count": 804,
   "metadata": {},
   "outputs": [
    {
     "data": {
      "text/html": [
       "<style>#sk-container-id-1 {\n",
       "  /* Definition of color scheme common for light and dark mode */\n",
       "  --sklearn-color-text: black;\n",
       "  --sklearn-color-line: gray;\n",
       "  /* Definition of color scheme for unfitted estimators */\n",
       "  --sklearn-color-unfitted-level-0: #fff5e6;\n",
       "  --sklearn-color-unfitted-level-1: #f6e4d2;\n",
       "  --sklearn-color-unfitted-level-2: #ffe0b3;\n",
       "  --sklearn-color-unfitted-level-3: chocolate;\n",
       "  /* Definition of color scheme for fitted estimators */\n",
       "  --sklearn-color-fitted-level-0: #f0f8ff;\n",
       "  --sklearn-color-fitted-level-1: #d4ebff;\n",
       "  --sklearn-color-fitted-level-2: #b3dbfd;\n",
       "  --sklearn-color-fitted-level-3: cornflowerblue;\n",
       "\n",
       "  /* Specific color for light theme */\n",
       "  --sklearn-color-text-on-default-background: var(--sg-text-color, var(--theme-code-foreground, var(--jp-content-font-color1, black)));\n",
       "  --sklearn-color-background: var(--sg-background-color, var(--theme-background, var(--jp-layout-color0, white)));\n",
       "  --sklearn-color-border-box: var(--sg-text-color, var(--theme-code-foreground, var(--jp-content-font-color1, black)));\n",
       "  --sklearn-color-icon: #696969;\n",
       "\n",
       "  @media (prefers-color-scheme: dark) {\n",
       "    /* Redefinition of color scheme for dark theme */\n",
       "    --sklearn-color-text-on-default-background: var(--sg-text-color, var(--theme-code-foreground, var(--jp-content-font-color1, white)));\n",
       "    --sklearn-color-background: var(--sg-background-color, var(--theme-background, var(--jp-layout-color0, #111)));\n",
       "    --sklearn-color-border-box: var(--sg-text-color, var(--theme-code-foreground, var(--jp-content-font-color1, white)));\n",
       "    --sklearn-color-icon: #878787;\n",
       "  }\n",
       "}\n",
       "\n",
       "#sk-container-id-1 {\n",
       "  color: var(--sklearn-color-text);\n",
       "}\n",
       "\n",
       "#sk-container-id-1 pre {\n",
       "  padding: 0;\n",
       "}\n",
       "\n",
       "#sk-container-id-1 input.sk-hidden--visually {\n",
       "  border: 0;\n",
       "  clip: rect(1px 1px 1px 1px);\n",
       "  clip: rect(1px, 1px, 1px, 1px);\n",
       "  height: 1px;\n",
       "  margin: -1px;\n",
       "  overflow: hidden;\n",
       "  padding: 0;\n",
       "  position: absolute;\n",
       "  width: 1px;\n",
       "}\n",
       "\n",
       "#sk-container-id-1 div.sk-dashed-wrapped {\n",
       "  border: 1px dashed var(--sklearn-color-line);\n",
       "  margin: 0 0.4em 0.5em 0.4em;\n",
       "  box-sizing: border-box;\n",
       "  padding-bottom: 0.4em;\n",
       "  background-color: var(--sklearn-color-background);\n",
       "}\n",
       "\n",
       "#sk-container-id-1 div.sk-container {\n",
       "  /* jupyter's `normalize.less` sets `[hidden] { display: none; }`\n",
       "     but bootstrap.min.css set `[hidden] { display: none !important; }`\n",
       "     so we also need the `!important` here to be able to override the\n",
       "     default hidden behavior on the sphinx rendered scikit-learn.org.\n",
       "     See: https://github.com/scikit-learn/scikit-learn/issues/21755 */\n",
       "  display: inline-block !important;\n",
       "  position: relative;\n",
       "}\n",
       "\n",
       "#sk-container-id-1 div.sk-text-repr-fallback {\n",
       "  display: none;\n",
       "}\n",
       "\n",
       "div.sk-parallel-item,\n",
       "div.sk-serial,\n",
       "div.sk-item {\n",
       "  /* draw centered vertical line to link estimators */\n",
       "  background-image: linear-gradient(var(--sklearn-color-text-on-default-background), var(--sklearn-color-text-on-default-background));\n",
       "  background-size: 2px 100%;\n",
       "  background-repeat: no-repeat;\n",
       "  background-position: center center;\n",
       "}\n",
       "\n",
       "/* Parallel-specific style estimator block */\n",
       "\n",
       "#sk-container-id-1 div.sk-parallel-item::after {\n",
       "  content: \"\";\n",
       "  width: 100%;\n",
       "  border-bottom: 2px solid var(--sklearn-color-text-on-default-background);\n",
       "  flex-grow: 1;\n",
       "}\n",
       "\n",
       "#sk-container-id-1 div.sk-parallel {\n",
       "  display: flex;\n",
       "  align-items: stretch;\n",
       "  justify-content: center;\n",
       "  background-color: var(--sklearn-color-background);\n",
       "  position: relative;\n",
       "}\n",
       "\n",
       "#sk-container-id-1 div.sk-parallel-item {\n",
       "  display: flex;\n",
       "  flex-direction: column;\n",
       "}\n",
       "\n",
       "#sk-container-id-1 div.sk-parallel-item:first-child::after {\n",
       "  align-self: flex-end;\n",
       "  width: 50%;\n",
       "}\n",
       "\n",
       "#sk-container-id-1 div.sk-parallel-item:last-child::after {\n",
       "  align-self: flex-start;\n",
       "  width: 50%;\n",
       "}\n",
       "\n",
       "#sk-container-id-1 div.sk-parallel-item:only-child::after {\n",
       "  width: 0;\n",
       "}\n",
       "\n",
       "/* Serial-specific style estimator block */\n",
       "\n",
       "#sk-container-id-1 div.sk-serial {\n",
       "  display: flex;\n",
       "  flex-direction: column;\n",
       "  align-items: center;\n",
       "  background-color: var(--sklearn-color-background);\n",
       "  padding-right: 1em;\n",
       "  padding-left: 1em;\n",
       "}\n",
       "\n",
       "\n",
       "/* Toggleable style: style used for estimator/Pipeline/ColumnTransformer box that is\n",
       "clickable and can be expanded/collapsed.\n",
       "- Pipeline and ColumnTransformer use this feature and define the default style\n",
       "- Estimators will overwrite some part of the style using the `sk-estimator` class\n",
       "*/\n",
       "\n",
       "/* Pipeline and ColumnTransformer style (default) */\n",
       "\n",
       "#sk-container-id-1 div.sk-toggleable {\n",
       "  /* Default theme specific background. It is overwritten whether we have a\n",
       "  specific estimator or a Pipeline/ColumnTransformer */\n",
       "  background-color: var(--sklearn-color-background);\n",
       "}\n",
       "\n",
       "/* Toggleable label */\n",
       "#sk-container-id-1 label.sk-toggleable__label {\n",
       "  cursor: pointer;\n",
       "  display: block;\n",
       "  width: 100%;\n",
       "  margin-bottom: 0;\n",
       "  padding: 0.5em;\n",
       "  box-sizing: border-box;\n",
       "  text-align: center;\n",
       "}\n",
       "\n",
       "#sk-container-id-1 label.sk-toggleable__label-arrow:before {\n",
       "  /* Arrow on the left of the label */\n",
       "  content: \"▸\";\n",
       "  float: left;\n",
       "  margin-right: 0.25em;\n",
       "  color: var(--sklearn-color-icon);\n",
       "}\n",
       "\n",
       "#sk-container-id-1 label.sk-toggleable__label-arrow:hover:before {\n",
       "  color: var(--sklearn-color-text);\n",
       "}\n",
       "\n",
       "/* Toggleable content - dropdown */\n",
       "\n",
       "#sk-container-id-1 div.sk-toggleable__content {\n",
       "  max-height: 0;\n",
       "  max-width: 0;\n",
       "  overflow: hidden;\n",
       "  text-align: left;\n",
       "  /* unfitted */\n",
       "  background-color: var(--sklearn-color-unfitted-level-0);\n",
       "}\n",
       "\n",
       "#sk-container-id-1 div.sk-toggleable__content.fitted {\n",
       "  /* fitted */\n",
       "  background-color: var(--sklearn-color-fitted-level-0);\n",
       "}\n",
       "\n",
       "#sk-container-id-1 div.sk-toggleable__content pre {\n",
       "  margin: 0.2em;\n",
       "  border-radius: 0.25em;\n",
       "  color: var(--sklearn-color-text);\n",
       "  /* unfitted */\n",
       "  background-color: var(--sklearn-color-unfitted-level-0);\n",
       "}\n",
       "\n",
       "#sk-container-id-1 div.sk-toggleable__content.fitted pre {\n",
       "  /* unfitted */\n",
       "  background-color: var(--sklearn-color-fitted-level-0);\n",
       "}\n",
       "\n",
       "#sk-container-id-1 input.sk-toggleable__control:checked~div.sk-toggleable__content {\n",
       "  /* Expand drop-down */\n",
       "  max-height: 200px;\n",
       "  max-width: 100%;\n",
       "  overflow: auto;\n",
       "}\n",
       "\n",
       "#sk-container-id-1 input.sk-toggleable__control:checked~label.sk-toggleable__label-arrow:before {\n",
       "  content: \"▾\";\n",
       "}\n",
       "\n",
       "/* Pipeline/ColumnTransformer-specific style */\n",
       "\n",
       "#sk-container-id-1 div.sk-label input.sk-toggleable__control:checked~label.sk-toggleable__label {\n",
       "  color: var(--sklearn-color-text);\n",
       "  background-color: var(--sklearn-color-unfitted-level-2);\n",
       "}\n",
       "\n",
       "#sk-container-id-1 div.sk-label.fitted input.sk-toggleable__control:checked~label.sk-toggleable__label {\n",
       "  background-color: var(--sklearn-color-fitted-level-2);\n",
       "}\n",
       "\n",
       "/* Estimator-specific style */\n",
       "\n",
       "/* Colorize estimator box */\n",
       "#sk-container-id-1 div.sk-estimator input.sk-toggleable__control:checked~label.sk-toggleable__label {\n",
       "  /* unfitted */\n",
       "  background-color: var(--sklearn-color-unfitted-level-2);\n",
       "}\n",
       "\n",
       "#sk-container-id-1 div.sk-estimator.fitted input.sk-toggleable__control:checked~label.sk-toggleable__label {\n",
       "  /* fitted */\n",
       "  background-color: var(--sklearn-color-fitted-level-2);\n",
       "}\n",
       "\n",
       "#sk-container-id-1 div.sk-label label.sk-toggleable__label,\n",
       "#sk-container-id-1 div.sk-label label {\n",
       "  /* The background is the default theme color */\n",
       "  color: var(--sklearn-color-text-on-default-background);\n",
       "}\n",
       "\n",
       "/* On hover, darken the color of the background */\n",
       "#sk-container-id-1 div.sk-label:hover label.sk-toggleable__label {\n",
       "  color: var(--sklearn-color-text);\n",
       "  background-color: var(--sklearn-color-unfitted-level-2);\n",
       "}\n",
       "\n",
       "/* Label box, darken color on hover, fitted */\n",
       "#sk-container-id-1 div.sk-label.fitted:hover label.sk-toggleable__label.fitted {\n",
       "  color: var(--sklearn-color-text);\n",
       "  background-color: var(--sklearn-color-fitted-level-2);\n",
       "}\n",
       "\n",
       "/* Estimator label */\n",
       "\n",
       "#sk-container-id-1 div.sk-label label {\n",
       "  font-family: monospace;\n",
       "  font-weight: bold;\n",
       "  display: inline-block;\n",
       "  line-height: 1.2em;\n",
       "}\n",
       "\n",
       "#sk-container-id-1 div.sk-label-container {\n",
       "  text-align: center;\n",
       "}\n",
       "\n",
       "/* Estimator-specific */\n",
       "#sk-container-id-1 div.sk-estimator {\n",
       "  font-family: monospace;\n",
       "  border: 1px dotted var(--sklearn-color-border-box);\n",
       "  border-radius: 0.25em;\n",
       "  box-sizing: border-box;\n",
       "  margin-bottom: 0.5em;\n",
       "  /* unfitted */\n",
       "  background-color: var(--sklearn-color-unfitted-level-0);\n",
       "}\n",
       "\n",
       "#sk-container-id-1 div.sk-estimator.fitted {\n",
       "  /* fitted */\n",
       "  background-color: var(--sklearn-color-fitted-level-0);\n",
       "}\n",
       "\n",
       "/* on hover */\n",
       "#sk-container-id-1 div.sk-estimator:hover {\n",
       "  /* unfitted */\n",
       "  background-color: var(--sklearn-color-unfitted-level-2);\n",
       "}\n",
       "\n",
       "#sk-container-id-1 div.sk-estimator.fitted:hover {\n",
       "  /* fitted */\n",
       "  background-color: var(--sklearn-color-fitted-level-2);\n",
       "}\n",
       "\n",
       "/* Specification for estimator info (e.g. \"i\" and \"?\") */\n",
       "\n",
       "/* Common style for \"i\" and \"?\" */\n",
       "\n",
       ".sk-estimator-doc-link,\n",
       "a:link.sk-estimator-doc-link,\n",
       "a:visited.sk-estimator-doc-link {\n",
       "  float: right;\n",
       "  font-size: smaller;\n",
       "  line-height: 1em;\n",
       "  font-family: monospace;\n",
       "  background-color: var(--sklearn-color-background);\n",
       "  border-radius: 1em;\n",
       "  height: 1em;\n",
       "  width: 1em;\n",
       "  text-decoration: none !important;\n",
       "  margin-left: 1ex;\n",
       "  /* unfitted */\n",
       "  border: var(--sklearn-color-unfitted-level-1) 1pt solid;\n",
       "  color: var(--sklearn-color-unfitted-level-1);\n",
       "}\n",
       "\n",
       ".sk-estimator-doc-link.fitted,\n",
       "a:link.sk-estimator-doc-link.fitted,\n",
       "a:visited.sk-estimator-doc-link.fitted {\n",
       "  /* fitted */\n",
       "  border: var(--sklearn-color-fitted-level-1) 1pt solid;\n",
       "  color: var(--sklearn-color-fitted-level-1);\n",
       "}\n",
       "\n",
       "/* On hover */\n",
       "div.sk-estimator:hover .sk-estimator-doc-link:hover,\n",
       ".sk-estimator-doc-link:hover,\n",
       "div.sk-label-container:hover .sk-estimator-doc-link:hover,\n",
       ".sk-estimator-doc-link:hover {\n",
       "  /* unfitted */\n",
       "  background-color: var(--sklearn-color-unfitted-level-3);\n",
       "  color: var(--sklearn-color-background);\n",
       "  text-decoration: none;\n",
       "}\n",
       "\n",
       "div.sk-estimator.fitted:hover .sk-estimator-doc-link.fitted:hover,\n",
       ".sk-estimator-doc-link.fitted:hover,\n",
       "div.sk-label-container:hover .sk-estimator-doc-link.fitted:hover,\n",
       ".sk-estimator-doc-link.fitted:hover {\n",
       "  /* fitted */\n",
       "  background-color: var(--sklearn-color-fitted-level-3);\n",
       "  color: var(--sklearn-color-background);\n",
       "  text-decoration: none;\n",
       "}\n",
       "\n",
       "/* Span, style for the box shown on hovering the info icon */\n",
       ".sk-estimator-doc-link span {\n",
       "  display: none;\n",
       "  z-index: 9999;\n",
       "  position: relative;\n",
       "  font-weight: normal;\n",
       "  right: .2ex;\n",
       "  padding: .5ex;\n",
       "  margin: .5ex;\n",
       "  width: min-content;\n",
       "  min-width: 20ex;\n",
       "  max-width: 50ex;\n",
       "  color: var(--sklearn-color-text);\n",
       "  box-shadow: 2pt 2pt 4pt #999;\n",
       "  /* unfitted */\n",
       "  background: var(--sklearn-color-unfitted-level-0);\n",
       "  border: .5pt solid var(--sklearn-color-unfitted-level-3);\n",
       "}\n",
       "\n",
       ".sk-estimator-doc-link.fitted span {\n",
       "  /* fitted */\n",
       "  background: var(--sklearn-color-fitted-level-0);\n",
       "  border: var(--sklearn-color-fitted-level-3);\n",
       "}\n",
       "\n",
       ".sk-estimator-doc-link:hover span {\n",
       "  display: block;\n",
       "}\n",
       "\n",
       "/* \"?\"-specific style due to the `<a>` HTML tag */\n",
       "\n",
       "#sk-container-id-1 a.estimator_doc_link {\n",
       "  float: right;\n",
       "  font-size: 1rem;\n",
       "  line-height: 1em;\n",
       "  font-family: monospace;\n",
       "  background-color: var(--sklearn-color-background);\n",
       "  border-radius: 1rem;\n",
       "  height: 1rem;\n",
       "  width: 1rem;\n",
       "  text-decoration: none;\n",
       "  /* unfitted */\n",
       "  color: var(--sklearn-color-unfitted-level-1);\n",
       "  border: var(--sklearn-color-unfitted-level-1) 1pt solid;\n",
       "}\n",
       "\n",
       "#sk-container-id-1 a.estimator_doc_link.fitted {\n",
       "  /* fitted */\n",
       "  border: var(--sklearn-color-fitted-level-1) 1pt solid;\n",
       "  color: var(--sklearn-color-fitted-level-1);\n",
       "}\n",
       "\n",
       "/* On hover */\n",
       "#sk-container-id-1 a.estimator_doc_link:hover {\n",
       "  /* unfitted */\n",
       "  background-color: var(--sklearn-color-unfitted-level-3);\n",
       "  color: var(--sklearn-color-background);\n",
       "  text-decoration: none;\n",
       "}\n",
       "\n",
       "#sk-container-id-1 a.estimator_doc_link.fitted:hover {\n",
       "  /* fitted */\n",
       "  background-color: var(--sklearn-color-fitted-level-3);\n",
       "}\n",
       "</style><div id=\"sk-container-id-1\" class=\"sk-top-container\"><div class=\"sk-text-repr-fallback\"><pre>LinearRegression()</pre><b>In a Jupyter environment, please rerun this cell to show the HTML representation or trust the notebook. <br />On GitHub, the HTML representation is unable to render, please try loading this page with nbviewer.org.</b></div><div class=\"sk-container\" hidden><div class=\"sk-item\"><div class=\"sk-estimator fitted sk-toggleable\"><input class=\"sk-toggleable__control sk-hidden--visually\" id=\"sk-estimator-id-1\" type=\"checkbox\" checked><label for=\"sk-estimator-id-1\" class=\"sk-toggleable__label fitted sk-toggleable__label-arrow fitted\">&nbsp;&nbsp;LinearRegression<a class=\"sk-estimator-doc-link fitted\" rel=\"noreferrer\" target=\"_blank\" href=\"https://scikit-learn.org/1.4/modules/generated/sklearn.linear_model.LinearRegression.html\">?<span>Documentation for LinearRegression</span></a><span class=\"sk-estimator-doc-link fitted\">i<span>Fitted</span></span></label><div class=\"sk-toggleable__content fitted\"><pre>LinearRegression()</pre></div> </div></div></div></div>"
      ],
      "text/plain": [
       "LinearRegression()"
      ]
     },
     "execution_count": 804,
     "metadata": {},
     "output_type": "execute_result"
    }
   ],
   "source": [
    "model = LinearRegression()\n",
    "model.fit(X_train, y_train)"
   ]
  },
  {
   "cell_type": "code",
   "execution_count": 805,
   "metadata": {},
   "outputs": [
    {
     "name": "stdout",
     "output_type": "stream",
     "text": [
      "Mean Squared Error: 8.975130518559418\n",
      "Coefficients: [-1.12858884e+00 -1.96901104e+01  1.12144750e-06  1.60092954e-06\n",
      "  3.08651600e+00]\n",
      "Intercept: 3.607474371904045\n"
     ]
    }
   ],
   "source": [
    "y_pred = model.predict(X_test)\n",
    "mse = mean_squared_error(y_test, y_pred)\n",
    "print(\"Mean Squared Error:\", mse)\n",
    "\n",
    "# Interpretation\n",
    "coefficients = model.coef_\n",
    "intercept = model.intercept_\n",
    "print(\"Coefficients:\", coefficients)\n",
    "print(\"Intercept:\", intercept)"
   ]
  },
  {
   "cell_type": "code",
   "execution_count": null,
   "metadata": {},
   "outputs": [],
   "source": [
    "#Trying dropping a variable related to reservoirs "
   ]
  },
  {
   "cell_type": "code",
   "execution_count": 809,
   "metadata": {},
   "outputs": [],
   "source": [
    "Y = numericals['reservoir_vol_hm3']\n",
    "X = numericals[['domestic_consumption','population_normalized','domestic_network','economic_activities',]]"
   ]
  },
  {
   "cell_type": "code",
   "execution_count": 810,
   "metadata": {},
   "outputs": [],
   "source": [
    "X_train, X_test, y_train, y_test = train_test_split(X,Y,test_size=0.8,random_state=42)"
   ]
  },
  {
   "cell_type": "code",
   "execution_count": 811,
   "metadata": {},
   "outputs": [],
   "source": [
    "lm = linear_model.LinearRegression()\n",
    "model=lm.fit(X_train, y_train)"
   ]
  },
  {
   "cell_type": "code",
   "execution_count": 812,
   "metadata": {},
   "outputs": [],
   "source": [
    "predictions = lm.predict(X_test)"
   ]
  },
  {
   "cell_type": "code",
   "execution_count": 813,
   "metadata": {},
   "outputs": [
    {
     "name": "stdout",
     "output_type": "stream",
     "text": [
      "10.91180695252603\n",
      "3.3033024312838855\n"
     ]
    }
   ],
   "source": [
    "mse = mean_squared_error(y_test, predictions)\n",
    "print(mse)\n",
    "\n",
    "rmse = math.sqrt(mse)\n",
    "print(rmse)"
   ]
  },
  {
   "cell_type": "code",
   "execution_count": 814,
   "metadata": {},
   "outputs": [
    {
     "name": "stdout",
     "output_type": "stream",
     "text": [
      "0.4519104921589425\n"
     ]
    }
   ],
   "source": [
    "r2 = r2_score(y_test, predictions)\n",
    "print(r2)"
   ]
  },
  {
   "cell_type": "code",
   "execution_count": 826,
   "metadata": {},
   "outputs": [],
   "source": [
    "#Other test\n",
    "Y = numericals['reservoir_vol_hm3']\n",
    "X = numericals[['reservoir_vol_percent','domestic_consumption']]"
   ]
  },
  {
   "cell_type": "code",
   "execution_count": 827,
   "metadata": {},
   "outputs": [],
   "source": [
    "X_train, X_test, y_train, y_test = train_test_split(X,Y,test_size=0.8,random_state=42)"
   ]
  },
  {
   "cell_type": "code",
   "execution_count": 828,
   "metadata": {},
   "outputs": [],
   "source": [
    "lm = linear_model.LinearRegression()\n",
    "model=lm.fit(X_train, y_train)"
   ]
  },
  {
   "cell_type": "code",
   "execution_count": 829,
   "metadata": {},
   "outputs": [
    {
     "name": "stdout",
     "output_type": "stream",
     "text": [
      "10.91180695252603\n",
      "3.3033024312838855\n"
     ]
    }
   ],
   "source": [
    "mse = mean_squared_error(y_test, predictions)\n",
    "print(mse)\n",
    "\n",
    "rmse = math.sqrt(mse)\n",
    "print(rmse)"
   ]
  },
  {
   "cell_type": "code",
   "execution_count": 830,
   "metadata": {},
   "outputs": [
    {
     "name": "stdout",
     "output_type": "stream",
     "text": [
      "0.4519104921589425\n"
     ]
    }
   ],
   "source": [
    "r2 = r2_score(y_test, predictions)\n",
    "print(r2)"
   ]
  },
  {
   "cell_type": "code",
   "execution_count": null,
   "metadata": {},
   "outputs": [],
   "source": [
    "#Trying on un-processed data"
   ]
  },
  {
   "cell_type": "code",
   "execution_count": 832,
   "metadata": {},
   "outputs": [],
   "source": [
    "Y = data['reservoir_vol_hm3']\n",
    "X = data[['domestic_consumption','population','domestic_network','economic_activities',]]"
   ]
  },
  {
   "cell_type": "code",
   "execution_count": 833,
   "metadata": {},
   "outputs": [],
   "source": [
    "X_train, X_test, y_train, y_test = train_test_split(X,Y,test_size=0.8,random_state=42)"
   ]
  },
  {
   "cell_type": "code",
   "execution_count": 834,
   "metadata": {},
   "outputs": [],
   "source": [
    "lm = linear_model.LinearRegression()\n",
    "model=lm.fit(X_train, y_train)"
   ]
  },
  {
   "cell_type": "code",
   "execution_count": 835,
   "metadata": {},
   "outputs": [
    {
     "name": "stdout",
     "output_type": "stream",
     "text": [
      "7156.554350113016\n",
      "84.59642043321347\n"
     ]
    }
   ],
   "source": [
    "mse = mean_squared_error(y_test, predictions)\n",
    "print(mse)\n",
    "\n",
    "rmse = math.sqrt(mse)\n",
    "print(rmse)"
   ]
  },
  {
   "cell_type": "code",
   "execution_count": 836,
   "metadata": {},
   "outputs": [
    {
     "name": "stdout",
     "output_type": "stream",
     "text": [
      "-0.634408120353195\n"
     ]
    }
   ],
   "source": [
    "r2 = r2_score(y_test, predictions)\n",
    "print(r2)"
   ]
  },
  {
   "cell_type": "code",
   "execution_count": null,
   "metadata": {},
   "outputs": [],
   "source": [
    "#Lets apply the \"best\" model so far\n",
    "Y = numericals['reservoir_vol_hm3']\n",
    "X = numericals[['domestic_consumption','population_normalized','domestic_network','economic_activities',\n",
    "               'reservoir_vol_percent']]"
   ]
  },
  {
   "cell_type": "code",
   "execution_count": 838,
   "metadata": {},
   "outputs": [],
   "source": [
    "X_train, X_test, y_train, y_test = train_test_split(X, Y)"
   ]
  },
  {
   "cell_type": "code",
   "execution_count": 841,
   "metadata": {},
   "outputs": [
    {
     "name": "stdout",
     "output_type": "stream",
     "text": [
      "                            OLS Regression Results                            \n",
      "==============================================================================\n",
      "Dep. Variable:      reservoir_vol_hm3   R-squared:                       0.533\n",
      "Model:                            OLS   Adj. R-squared:                  0.533\n",
      "Method:                 Least Squares   F-statistic:                 8.835e+04\n",
      "Date:                Wed, 08 May 2024   Prob (F-statistic):               0.00\n",
      "Time:                        02:10:32   Log-Likelihood:            -1.6182e+06\n",
      "No. Observations:              309386   AIC:                         3.236e+06\n",
      "Df Residuals:                  309381   BIC:                         3.236e+06\n",
      "Df Model:                           4                                         \n",
      "Covariance Type:            nonrobust                                         \n",
      "========================================================================================\n",
      "                           coef    std err          t      P>|t|      [0.025      0.975]\n",
      "----------------------------------------------------------------------------------------\n",
      "const                   99.2006      1.293     76.717      0.000      96.666     101.735\n",
      "domestic_consumption    -0.4893      0.013    -39.017      0.000      -0.514      -0.465\n",
      "population              -0.0012   1.01e-05   -115.715      0.000      -0.001      -0.001\n",
      "domestic_network      6.729e-06   2.36e-07     28.545      0.000    6.27e-06    7.19e-06\n",
      "economic_activities   2.594e-05   4.97e-08    522.273      0.000    2.58e-05     2.6e-05\n",
      "==============================================================================\n",
      "Omnibus:                    33709.848   Durbin-Watson:                   0.003\n",
      "Prob(Omnibus):                  0.000   Jarque-Bera (JB):            94389.894\n",
      "Skew:                          -0.604   Prob(JB):                         0.00\n",
      "Kurtosis:                       5.421   Cond. No.                     1.37e+08\n",
      "==============================================================================\n",
      "\n",
      "Notes:\n",
      "[1] Standard Errors assume that the covariance matrix of the errors is correctly specified.\n",
      "[2] The condition number is large, 1.37e+08. This might indicate that there are\n",
      "strong multicollinearity or other numerical problems.\n"
     ]
    }
   ],
   "source": [
    "import statsmodels.api as sm\n",
    "X_train_sm = sm.add_constant(X)\n",
    "\n",
    "model = sm.OLS(Y,X_train_sm).fit()\n",
    "\n",
    "print(model.summary())"
   ]
  },
  {
   "cell_type": "code",
   "execution_count": 842,
   "metadata": {},
   "outputs": [
    {
     "name": "stdout",
     "output_type": "stream",
     "text": [
      "R2 value is =  0.53\n"
     ]
    }
   ],
   "source": [
    "lm = linear_model.LinearRegression()\n",
    "model = lm.fit(X_train,y_train)\n",
    "print(\"R2 value is = \",round(lm.score(X_train,y_train),2))"
   ]
  },
  {
   "cell_type": "code",
   "execution_count": 843,
   "metadata": {},
   "outputs": [
    {
     "data": {
      "text/plain": [
       "array([21.02425255, 83.14816453, 34.08384592, ..., 28.36965925,\n",
       "       14.50909094, 45.24877525])"
      ]
     },
     "execution_count": 843,
     "metadata": {},
     "output_type": "execute_result"
    }
   ],
   "source": [
    "predictions=lm.predict(X_test)\n",
    "predictions"
   ]
  }
 ],
 "metadata": {
  "kernelspec": {
   "display_name": "IronHackTest",
   "language": "python",
   "name": "python3"
  },
  "language_info": {
   "codemirror_mode": {
    "name": "ipython",
    "version": 3
   },
   "file_extension": ".py",
   "mimetype": "text/x-python",
   "name": "python",
   "nbconvert_exporter": "python",
   "pygments_lexer": "ipython3",
   "version": "3.11.7"
  }
 },
 "nbformat": 4,
 "nbformat_minor": 2
}
